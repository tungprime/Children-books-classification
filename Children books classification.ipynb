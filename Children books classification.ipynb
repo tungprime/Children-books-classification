{
 "cells": [
  {
   "cell_type": "markdown",
   "metadata": {},
   "source": [
    "# Introduction"
   ]
  },
  {
   "cell_type": "markdown",
   "metadata": {},
   "source": [
    "My 2 years old son loves reading. I myself also enjoy reading books for him. Therefore, naturally, I hope to buy books that he will like. This is a tricky business (especially for a graduate student parent.) There are two common ways for me to get new books for him. \n",
    "\n",
    "(1) Go to a monthly church-sale. It has books at affordable prices (for example, with just about 5$, you can get about 5-6 books.) The downside is that the collection is small, if not random. Sometimes, I could not find anything for my son and ended up waiting for the next sale or\n",
    "\n",
    "(2) Order books on Amazon. The advantage is that the collection is huge. Unfortunately, it is also one of its downsides: it is hard to choose one when you have too many choices. Another disadvantage is, of course, price. \n",
    "\n",
    "Recently, I found an article in which the author provides a list of good books for kids. \n",
    "\n",
    "https://www.raisesmartkid.com/all-ages/101-best-childrens-books-of-all-time-by-age\n",
    "\n",
    "These books are classified into several different age-groups. This is a question that I hope to solve.\n",
    "\n",
    "Question: Given the title and the description, can we classify the corresponding age-group?\n",
    "\n",
    "In this project, we will use machine learning techniques to solve this problem. Specifically, we will use Natural language processing and some classification models to solve them.\n",
    "\n",
    "About the dataset: \n",
    "\n",
    "The dataset is stored in the file \"book1.xlsx\". It consists of 79 books divided into three different groups. More precisely, group 1 is for 0-2 years old kids, group 2 is for 2-4 years old kids, and group 3 is for 5-8 years old kids. Furthermore, each book is equipped with the title as well as the author's summary/description. "
   ]
  },
  {
   "cell_type": "code",
   "execution_count": 2,
   "metadata": {},
   "outputs": [],
   "source": [
    "import pandas as pd\n",
    "import numpy as np\n",
    "import matplotlib.pyplot as plt \n",
    "%matplotlib inline\n",
    "import re\n",
    "import string"
   ]
  },
  {
   "cell_type": "code",
   "execution_count": 3,
   "metadata": {},
   "outputs": [],
   "source": [
    "df=pd.read_excel('Book1.xlsx')"
   ]
  },
  {
   "cell_type": "code",
   "execution_count": 4,
   "metadata": {},
   "outputs": [
    {
     "data": {
      "text/html": [
       "<div>\n",
       "<style scoped>\n",
       "    .dataframe tbody tr th:only-of-type {\n",
       "        vertical-align: middle;\n",
       "    }\n",
       "\n",
       "    .dataframe tbody tr th {\n",
       "        vertical-align: top;\n",
       "    }\n",
       "\n",
       "    .dataframe thead th {\n",
       "        text-align: right;\n",
       "    }\n",
       "</style>\n",
       "<table border=\"1\" class=\"dataframe\">\n",
       "  <thead>\n",
       "    <tr style=\"text-align: right;\">\n",
       "      <th></th>\n",
       "      <th>Title</th>\n",
       "      <th>Description</th>\n",
       "      <th>Group</th>\n",
       "    </tr>\n",
       "  </thead>\n",
       "  <tbody>\n",
       "    <tr>\n",
       "      <td>0</td>\n",
       "      <td>The Very Hungry Caterpillar</td>\n",
       "      <td>It follows a caterpillar from being hatched fr...</td>\n",
       "      <td>1</td>\n",
       "    </tr>\n",
       "    <tr>\n",
       "      <td>1</td>\n",
       "      <td>Chicka Chicka Boom Boom</td>\n",
       "      <td>This book is the baby’s fanciful introduction ...</td>\n",
       "      <td>1</td>\n",
       "    </tr>\n",
       "    <tr>\n",
       "      <td>2</td>\n",
       "      <td>Brown Bear, Brown Bear What Do You See?</td>\n",
       "      <td>A parade of animals of different colors will d...</td>\n",
       "      <td>1</td>\n",
       "    </tr>\n",
       "    <tr>\n",
       "      <td>3</td>\n",
       "      <td>Guess How Much I Love You</td>\n",
       "      <td>This bedtime favorite is about love, and as su...</td>\n",
       "      <td>1</td>\n",
       "    </tr>\n",
       "    <tr>\n",
       "      <td>4</td>\n",
       "      <td>here Is Baby’s Belly Button?</td>\n",
       "      <td>A fun book to read that will delight your bab...</td>\n",
       "      <td>1</td>\n",
       "    </tr>\n",
       "    <tr>\n",
       "      <td>...</td>\n",
       "      <td>...</td>\n",
       "      <td>...</td>\n",
       "      <td>...</td>\n",
       "    </tr>\n",
       "    <tr>\n",
       "      <td>74</td>\n",
       "      <td>The Pout-Pout Fish</td>\n",
       "      <td>This best-seller book is about a fish whose f...</td>\n",
       "      <td>3</td>\n",
       "    </tr>\n",
       "    <tr>\n",
       "      <td>75</td>\n",
       "      <td>The Night Before Christmas</td>\n",
       "      <td>A fresh retelling of Clement C. Moore’s holida...</td>\n",
       "      <td>3</td>\n",
       "    </tr>\n",
       "    <tr>\n",
       "      <td>76</td>\n",
       "      <td>Just Me and My Dad (Little Critter)</td>\n",
       "      <td>Little Critter is a typical little boy, excep...</td>\n",
       "      <td>3</td>\n",
       "    </tr>\n",
       "    <tr>\n",
       "      <td>77</td>\n",
       "      <td>The Lorax</td>\n",
       "      <td>The children’s story that introduces your chil...</td>\n",
       "      <td>3</td>\n",
       "    </tr>\n",
       "    <tr>\n",
       "      <td>78</td>\n",
       "      <td>National Geographic Little Kids First Big Book...</td>\n",
       "      <td>This book is perfect for the curious preschoo...</td>\n",
       "      <td>3</td>\n",
       "    </tr>\n",
       "  </tbody>\n",
       "</table>\n",
       "<p>79 rows × 3 columns</p>\n",
       "</div>"
      ],
      "text/plain": [
       "                                                Title  \\\n",
       "0                         The Very Hungry Caterpillar   \n",
       "1                            Chicka Chicka Boom Boom    \n",
       "2             Brown Bear, Brown Bear What Do You See?   \n",
       "3                          Guess How Much I Love You    \n",
       "4                        here Is Baby’s Belly Button?   \n",
       "..                                                ...   \n",
       "74                                 The Pout-Pout Fish   \n",
       "75                        The Night Before Christmas    \n",
       "76                Just Me and My Dad (Little Critter)   \n",
       "77                                          The Lorax   \n",
       "78  National Geographic Little Kids First Big Book...   \n",
       "\n",
       "                                          Description  Group  \n",
       "0   It follows a caterpillar from being hatched fr...      1  \n",
       "1   This book is the baby’s fanciful introduction ...      1  \n",
       "2   A parade of animals of different colors will d...      1  \n",
       "3   This bedtime favorite is about love, and as su...      1  \n",
       "4    A fun book to read that will delight your bab...      1  \n",
       "..                                                ...    ...  \n",
       "74   This best-seller book is about a fish whose f...      3  \n",
       "75  A fresh retelling of Clement C. Moore’s holida...      3  \n",
       "76   Little Critter is a typical little boy, excep...      3  \n",
       "77  The children’s story that introduces your chil...      3  \n",
       "78   This book is perfect for the curious preschoo...      3  \n",
       "\n",
       "[79 rows x 3 columns]"
      ]
     },
     "execution_count": 4,
     "metadata": {},
     "output_type": "execute_result"
    }
   ],
   "source": [
    "df"
   ]
  },
  {
   "cell_type": "markdown",
   "metadata": {},
   "source": [
    "# Part 1: Data engineering and Exploratory data analysis\n"
   ]
  },
  {
   "cell_type": "markdown",
   "metadata": {},
   "source": [
    "Our ultimate question is: how to get the most important information out of this raw dataset? In order to achieve this goal, we will need to do some data engineering. In this section, we are going to do the following\n",
    "\n",
    "1. Clean the data so that all words are lowered case. We also remove all irrelevant punctuation.\n",
    "\n",
    "2. We will tockenize the titles and the description. \n",
    "\n",
    "3. We will then remove stop words-words which are usually not important for understanding a text (such as the, a, an etc.)\n",
    "\n",
    "4. Create a document-term matrix to train/evaluate our machine learning model. \n",
    "\n",
    "The first thing we can do is to make all letters become lower case. The reason is that we do not want to distingish 'bear' and 'Bear'"
   ]
  },
  {
   "cell_type": "code",
   "execution_count": 5,
   "metadata": {},
   "outputs": [],
   "source": [
    "def lower_case(text):\n",
    "    lower_text=\"\".join([char.lower() for char in text])\n",
    "    return lower_text"
   ]
  },
  {
   "cell_type": "code",
   "execution_count": 6,
   "metadata": {},
   "outputs": [],
   "source": [
    "df['title']=df['Title'].apply(lambda x: lower_case(x))\n",
    "df['description']=df['Description'].apply(lambda x: lower_case(x))"
   ]
  },
  {
   "cell_type": "code",
   "execution_count": 7,
   "metadata": {},
   "outputs": [],
   "source": [
    "df=df.drop(['Title', 'Description'], axis=1)\n",
    "df=df[['title', 'description', 'Group']]"
   ]
  },
  {
   "cell_type": "code",
   "execution_count": 8,
   "metadata": {},
   "outputs": [
    {
     "data": {
      "text/html": [
       "<div>\n",
       "<style scoped>\n",
       "    .dataframe tbody tr th:only-of-type {\n",
       "        vertical-align: middle;\n",
       "    }\n",
       "\n",
       "    .dataframe tbody tr th {\n",
       "        vertical-align: top;\n",
       "    }\n",
       "\n",
       "    .dataframe thead th {\n",
       "        text-align: right;\n",
       "    }\n",
       "</style>\n",
       "<table border=\"1\" class=\"dataframe\">\n",
       "  <thead>\n",
       "    <tr style=\"text-align: right;\">\n",
       "      <th></th>\n",
       "      <th>title</th>\n",
       "      <th>description</th>\n",
       "      <th>Group</th>\n",
       "    </tr>\n",
       "  </thead>\n",
       "  <tbody>\n",
       "    <tr>\n",
       "      <td>0</td>\n",
       "      <td>the very hungry caterpillar</td>\n",
       "      <td>it follows a caterpillar from being hatched fr...</td>\n",
       "      <td>1</td>\n",
       "    </tr>\n",
       "    <tr>\n",
       "      <td>1</td>\n",
       "      <td>chicka chicka boom boom</td>\n",
       "      <td>this book is the baby’s fanciful introduction ...</td>\n",
       "      <td>1</td>\n",
       "    </tr>\n",
       "    <tr>\n",
       "      <td>2</td>\n",
       "      <td>brown bear, brown bear what do you see?</td>\n",
       "      <td>a parade of animals of different colors will d...</td>\n",
       "      <td>1</td>\n",
       "    </tr>\n",
       "    <tr>\n",
       "      <td>3</td>\n",
       "      <td>guess how much i love you</td>\n",
       "      <td>this bedtime favorite is about love, and as su...</td>\n",
       "      <td>1</td>\n",
       "    </tr>\n",
       "    <tr>\n",
       "      <td>4</td>\n",
       "      <td>here is baby’s belly button?</td>\n",
       "      <td>a fun book to read that will delight your bab...</td>\n",
       "      <td>1</td>\n",
       "    </tr>\n",
       "  </tbody>\n",
       "</table>\n",
       "</div>"
      ],
      "text/plain": [
       "                                     title  \\\n",
       "0              the very hungry caterpillar   \n",
       "1                 chicka chicka boom boom    \n",
       "2  brown bear, brown bear what do you see?   \n",
       "3               guess how much i love you    \n",
       "4             here is baby’s belly button?   \n",
       "\n",
       "                                         description  Group  \n",
       "0  it follows a caterpillar from being hatched fr...      1  \n",
       "1  this book is the baby’s fanciful introduction ...      1  \n",
       "2  a parade of animals of different colors will d...      1  \n",
       "3  this bedtime favorite is about love, and as su...      1  \n",
       "4   a fun book to read that will delight your bab...      1  "
      ]
     },
     "execution_count": 8,
     "metadata": {},
     "output_type": "execute_result"
    }
   ],
   "source": [
    "df.head()"
   ]
  },
  {
   "cell_type": "markdown",
   "metadata": {},
   "source": [
    "Next, we will remove all irrelevant punctuation. Typically, we would remove all punctuation. However, from our experience, we observe that books for 0-2 kids are more likely to contain '?' and '!' marks. We can define a function to count these marks."
   ]
  },
  {
   "cell_type": "code",
   "execution_count": 9,
   "metadata": {},
   "outputs": [],
   "source": [
    "def count_punct(text):\n",
    "    count=0\n",
    "    for char in text:\n",
    "        if char =='?' or char =='!':\n",
    "            count +=1\n",
    "    return count"
   ]
  },
  {
   "cell_type": "code",
   "execution_count": 10,
   "metadata": {},
   "outputs": [
    {
     "data": {
      "text/html": [
       "<div>\n",
       "<style scoped>\n",
       "    .dataframe tbody tr th:only-of-type {\n",
       "        vertical-align: middle;\n",
       "    }\n",
       "\n",
       "    .dataframe tbody tr th {\n",
       "        vertical-align: top;\n",
       "    }\n",
       "\n",
       "    .dataframe thead th {\n",
       "        text-align: right;\n",
       "    }\n",
       "</style>\n",
       "<table border=\"1\" class=\"dataframe\">\n",
       "  <thead>\n",
       "    <tr style=\"text-align: right;\">\n",
       "      <th></th>\n",
       "      <th>title</th>\n",
       "      <th>description</th>\n",
       "      <th>Group</th>\n",
       "      <th>count_punct</th>\n",
       "    </tr>\n",
       "  </thead>\n",
       "  <tbody>\n",
       "    <tr>\n",
       "      <td>0</td>\n",
       "      <td>the very hungry caterpillar</td>\n",
       "      <td>it follows a caterpillar from being hatched fr...</td>\n",
       "      <td>1</td>\n",
       "      <td>0</td>\n",
       "    </tr>\n",
       "    <tr>\n",
       "      <td>1</td>\n",
       "      <td>chicka chicka boom boom</td>\n",
       "      <td>this book is the baby’s fanciful introduction ...</td>\n",
       "      <td>1</td>\n",
       "      <td>0</td>\n",
       "    </tr>\n",
       "    <tr>\n",
       "      <td>2</td>\n",
       "      <td>brown bear, brown bear what do you see?</td>\n",
       "      <td>a parade of animals of different colors will d...</td>\n",
       "      <td>1</td>\n",
       "      <td>1</td>\n",
       "    </tr>\n",
       "    <tr>\n",
       "      <td>3</td>\n",
       "      <td>guess how much i love you</td>\n",
       "      <td>this bedtime favorite is about love, and as su...</td>\n",
       "      <td>1</td>\n",
       "      <td>0</td>\n",
       "    </tr>\n",
       "    <tr>\n",
       "      <td>4</td>\n",
       "      <td>here is baby’s belly button?</td>\n",
       "      <td>a fun book to read that will delight your bab...</td>\n",
       "      <td>1</td>\n",
       "      <td>1</td>\n",
       "    </tr>\n",
       "  </tbody>\n",
       "</table>\n",
       "</div>"
      ],
      "text/plain": [
       "                                     title  \\\n",
       "0              the very hungry caterpillar   \n",
       "1                 chicka chicka boom boom    \n",
       "2  brown bear, brown bear what do you see?   \n",
       "3               guess how much i love you    \n",
       "4             here is baby’s belly button?   \n",
       "\n",
       "                                         description  Group  count_punct  \n",
       "0  it follows a caterpillar from being hatched fr...      1            0  \n",
       "1  this book is the baby’s fanciful introduction ...      1            0  \n",
       "2  a parade of animals of different colors will d...      1            1  \n",
       "3  this bedtime favorite is about love, and as su...      1            0  \n",
       "4   a fun book to read that will delight your bab...      1            1  "
      ]
     },
     "execution_count": 10,
     "metadata": {},
     "output_type": "execute_result"
    }
   ],
   "source": [
    "df['count_punct']=df['title'].apply(lambda x: count_punct(x))\n",
    "df.head()"
   ]
  },
  {
   "cell_type": "code",
   "execution_count": 11,
   "metadata": {},
   "outputs": [
    {
     "data": {
      "text/plain": [
       "Group  count_punct\n",
       "1      0              13\n",
       "       1               4\n",
       "2      0              23\n",
       "       1               1\n",
       "3      0              36\n",
       "       1               2\n",
       "Name: title, dtype: int64"
      ]
     },
     "execution_count": 11,
     "metadata": {},
     "output_type": "execute_result"
    }
   ],
   "source": [
    "df.groupby(['Group','count_punct']).count()['title']"
   ]
  },
  {
   "cell_type": "markdown",
   "metadata": {},
   "source": [
    "We see that 23% of books in group 1 has '?!', $4$% of books in group 2 has '?!', and 5% of books in group 3 has '?!'. This seems to confirm our belief that books for 0-2 years old kids are more likely to have \"?!\"."
   ]
  },
  {
   "cell_type": "markdown",
   "metadata": {},
   "source": [
    "Now, we can safely remove all punctuation."
   ]
  },
  {
   "cell_type": "code",
   "execution_count": 12,
   "metadata": {},
   "outputs": [
    {
     "data": {
      "text/plain": [
       "'!\"#$%&\\'()*+,-./:;<=>?@[\\\\]^_`{|}~'"
      ]
     },
     "execution_count": 12,
     "metadata": {},
     "output_type": "execute_result"
    }
   ],
   "source": [
    "#List of punctuation\n",
    "string.punctuation"
   ]
  },
  {
   "cell_type": "code",
   "execution_count": 13,
   "metadata": {},
   "outputs": [],
   "source": [
    "#a function to remove punctuation\n",
    "\n",
    "def remove_punct(text):\n",
    "    new_text=\"\".join([char for char in text if char not in string.punctuation])\n",
    "    return new_text"
   ]
  },
  {
   "cell_type": "code",
   "execution_count": 14,
   "metadata": {},
   "outputs": [
    {
     "data": {
      "text/html": [
       "<div>\n",
       "<style scoped>\n",
       "    .dataframe tbody tr th:only-of-type {\n",
       "        vertical-align: middle;\n",
       "    }\n",
       "\n",
       "    .dataframe tbody tr th {\n",
       "        vertical-align: top;\n",
       "    }\n",
       "\n",
       "    .dataframe thead th {\n",
       "        text-align: right;\n",
       "    }\n",
       "</style>\n",
       "<table border=\"1\" class=\"dataframe\">\n",
       "  <thead>\n",
       "    <tr style=\"text-align: right;\">\n",
       "      <th></th>\n",
       "      <th>title</th>\n",
       "      <th>description</th>\n",
       "      <th>Group</th>\n",
       "      <th>count_punct</th>\n",
       "      <th>title_clean</th>\n",
       "      <th>description_clean</th>\n",
       "    </tr>\n",
       "  </thead>\n",
       "  <tbody>\n",
       "    <tr>\n",
       "      <td>0</td>\n",
       "      <td>the very hungry caterpillar</td>\n",
       "      <td>it follows a caterpillar from being hatched fr...</td>\n",
       "      <td>1</td>\n",
       "      <td>0</td>\n",
       "      <td>the very hungry caterpillar</td>\n",
       "      <td>it follows a caterpillar from being hatched fr...</td>\n",
       "    </tr>\n",
       "    <tr>\n",
       "      <td>1</td>\n",
       "      <td>chicka chicka boom boom</td>\n",
       "      <td>this book is the baby’s fanciful introduction ...</td>\n",
       "      <td>1</td>\n",
       "      <td>0</td>\n",
       "      <td>chicka chicka boom boom</td>\n",
       "      <td>this book is the baby’s fanciful introduction ...</td>\n",
       "    </tr>\n",
       "    <tr>\n",
       "      <td>2</td>\n",
       "      <td>brown bear, brown bear what do you see?</td>\n",
       "      <td>a parade of animals of different colors will d...</td>\n",
       "      <td>1</td>\n",
       "      <td>1</td>\n",
       "      <td>brown bear brown bear what do you see</td>\n",
       "      <td>a parade of animals of different colors will d...</td>\n",
       "    </tr>\n",
       "    <tr>\n",
       "      <td>3</td>\n",
       "      <td>guess how much i love you</td>\n",
       "      <td>this bedtime favorite is about love, and as su...</td>\n",
       "      <td>1</td>\n",
       "      <td>0</td>\n",
       "      <td>guess how much i love you</td>\n",
       "      <td>this bedtime favorite is about love and as suc...</td>\n",
       "    </tr>\n",
       "    <tr>\n",
       "      <td>4</td>\n",
       "      <td>here is baby’s belly button?</td>\n",
       "      <td>a fun book to read that will delight your bab...</td>\n",
       "      <td>1</td>\n",
       "      <td>1</td>\n",
       "      <td>here is baby’s belly button</td>\n",
       "      <td>a fun book to read that will delight your bab...</td>\n",
       "    </tr>\n",
       "  </tbody>\n",
       "</table>\n",
       "</div>"
      ],
      "text/plain": [
       "                                     title  \\\n",
       "0              the very hungry caterpillar   \n",
       "1                 chicka chicka boom boom    \n",
       "2  brown bear, brown bear what do you see?   \n",
       "3               guess how much i love you    \n",
       "4             here is baby’s belly button?   \n",
       "\n",
       "                                         description  Group  count_punct  \\\n",
       "0  it follows a caterpillar from being hatched fr...      1            0   \n",
       "1  this book is the baby’s fanciful introduction ...      1            0   \n",
       "2  a parade of animals of different colors will d...      1            1   \n",
       "3  this bedtime favorite is about love, and as su...      1            0   \n",
       "4   a fun book to read that will delight your bab...      1            1   \n",
       "\n",
       "                             title_clean  \\\n",
       "0            the very hungry caterpillar   \n",
       "1               chicka chicka boom boom    \n",
       "2  brown bear brown bear what do you see   \n",
       "3             guess how much i love you    \n",
       "4            here is baby’s belly button   \n",
       "\n",
       "                                   description_clean  \n",
       "0  it follows a caterpillar from being hatched fr...  \n",
       "1  this book is the baby’s fanciful introduction ...  \n",
       "2  a parade of animals of different colors will d...  \n",
       "3  this bedtime favorite is about love and as suc...  \n",
       "4   a fun book to read that will delight your bab...  "
      ]
     },
     "execution_count": 14,
     "metadata": {},
     "output_type": "execute_result"
    }
   ],
   "source": [
    "# we apply the remove_punct function to our dataframe\n",
    "df['title_clean']=df['title'].apply(lambda x: remove_punct(x))\n",
    "df['description_clean']=df['description'].apply(lambda x: remove_punct(x))\n",
    "df.head()"
   ]
  },
  {
   "cell_type": "markdown",
   "metadata": {},
   "source": [
    "Another piece that might be relevant is the length of the title. Is it true that books for 0-2 years old kids are \n",
    "generally shorter?"
   ]
  },
  {
   "cell_type": "code",
   "execution_count": 15,
   "metadata": {},
   "outputs": [
    {
     "data": {
      "text/html": [
       "<div>\n",
       "<style scoped>\n",
       "    .dataframe tbody tr th:only-of-type {\n",
       "        vertical-align: middle;\n",
       "    }\n",
       "\n",
       "    .dataframe tbody tr th {\n",
       "        vertical-align: top;\n",
       "    }\n",
       "\n",
       "    .dataframe thead th {\n",
       "        text-align: right;\n",
       "    }\n",
       "</style>\n",
       "<table border=\"1\" class=\"dataframe\">\n",
       "  <thead>\n",
       "    <tr style=\"text-align: right;\">\n",
       "      <th></th>\n",
       "      <th>title</th>\n",
       "      <th>description</th>\n",
       "      <th>Group</th>\n",
       "      <th>count_punct</th>\n",
       "      <th>title_clean</th>\n",
       "      <th>description_clean</th>\n",
       "      <th>title_len</th>\n",
       "    </tr>\n",
       "  </thead>\n",
       "  <tbody>\n",
       "    <tr>\n",
       "      <td>49</td>\n",
       "      <td>make way for ducklings</td>\n",
       "      <td>this caldecott medal winner from 1941 tells t...</td>\n",
       "      <td>3</td>\n",
       "      <td>0</td>\n",
       "      <td>make way for ducklings</td>\n",
       "      <td>this caldecott medal winner from 1941 tells t...</td>\n",
       "      <td>4</td>\n",
       "    </tr>\n",
       "    <tr>\n",
       "      <td>41</td>\n",
       "      <td>alexander and the terrible, \\nhorrible, no goo...</td>\n",
       "      <td>this book helps your child understand what it ...</td>\n",
       "      <td>3</td>\n",
       "      <td>0</td>\n",
       "      <td>alexander and the terrible \\nhorrible no good ...</td>\n",
       "      <td>this book helps your child understand what it ...</td>\n",
       "      <td>10</td>\n",
       "    </tr>\n",
       "    <tr>\n",
       "      <td>61</td>\n",
       "      <td>my father’s dragon</td>\n",
       "      <td>this fantasy book is about a young boy, elmer ...</td>\n",
       "      <td>3</td>\n",
       "      <td>0</td>\n",
       "      <td>my father’s dragon</td>\n",
       "      <td>this fantasy book is about a young boy elmer e...</td>\n",
       "      <td>3</td>\n",
       "    </tr>\n",
       "    <tr>\n",
       "      <td>7</td>\n",
       "      <td>on the night you were born</td>\n",
       "      <td>for a book you can read to your baby, this one...</td>\n",
       "      <td>1</td>\n",
       "      <td>0</td>\n",
       "      <td>on the night you were born</td>\n",
       "      <td>for a book you can read to your baby this one ...</td>\n",
       "      <td>6</td>\n",
       "    </tr>\n",
       "    <tr>\n",
       "      <td>11</td>\n",
       "      <td>goodnight moon</td>\n",
       "      <td>this classic bedtime book for you baby contai...</td>\n",
       "      <td>1</td>\n",
       "      <td>0</td>\n",
       "      <td>goodnight moon</td>\n",
       "      <td>this classic bedtime book for you baby contai...</td>\n",
       "      <td>2</td>\n",
       "    </tr>\n",
       "  </tbody>\n",
       "</table>\n",
       "</div>"
      ],
      "text/plain": [
       "                                                title  \\\n",
       "49                            make way for ducklings    \n",
       "41  alexander and the terrible, \\nhorrible, no goo...   \n",
       "61                                 my father’s dragon   \n",
       "7                          on the night you were born   \n",
       "11                                     goodnight moon   \n",
       "\n",
       "                                          description  Group  count_punct  \\\n",
       "49   this caldecott medal winner from 1941 tells t...      3            0   \n",
       "41  this book helps your child understand what it ...      3            0   \n",
       "61  this fantasy book is about a young boy, elmer ...      3            0   \n",
       "7   for a book you can read to your baby, this one...      1            0   \n",
       "11   this classic bedtime book for you baby contai...      1            0   \n",
       "\n",
       "                                          title_clean  \\\n",
       "49                            make way for ducklings    \n",
       "41  alexander and the terrible \\nhorrible no good ...   \n",
       "61                                 my father’s dragon   \n",
       "7                          on the night you were born   \n",
       "11                                     goodnight moon   \n",
       "\n",
       "                                    description_clean  title_len  \n",
       "49   this caldecott medal winner from 1941 tells t...          4  \n",
       "41  this book helps your child understand what it ...         10  \n",
       "61  this fantasy book is about a young boy elmer e...          3  \n",
       "7   for a book you can read to your baby this one ...          6  \n",
       "11   this classic bedtime book for you baby contai...          2  "
      ]
     },
     "execution_count": 15,
     "metadata": {},
     "output_type": "execute_result"
    }
   ],
   "source": [
    "df['title_len']=df['title'].apply(lambda x: len(x.split()))\n",
    "df.sample(n=5)"
   ]
  },
  {
   "cell_type": "code",
   "execution_count": 16,
   "metadata": {},
   "outputs": [
    {
     "data": {
      "text/html": [
       "<div>\n",
       "<style scoped>\n",
       "    .dataframe tbody tr th:only-of-type {\n",
       "        vertical-align: middle;\n",
       "    }\n",
       "\n",
       "    .dataframe tbody tr th {\n",
       "        vertical-align: top;\n",
       "    }\n",
       "\n",
       "    .dataframe thead th {\n",
       "        text-align: right;\n",
       "    }\n",
       "</style>\n",
       "<table border=\"1\" class=\"dataframe\">\n",
       "  <thead>\n",
       "    <tr style=\"text-align: right;\">\n",
       "      <th></th>\n",
       "      <th>title</th>\n",
       "      <th>Group</th>\n",
       "    </tr>\n",
       "  </thead>\n",
       "  <tbody>\n",
       "    <tr>\n",
       "      <td>15</td>\n",
       "      <td>potty</td>\n",
       "      <td>1</td>\n",
       "    </tr>\n",
       "    <tr>\n",
       "      <td>17</td>\n",
       "      <td>corduroy</td>\n",
       "      <td>2</td>\n",
       "    </tr>\n",
       "    <tr>\n",
       "      <td>24</td>\n",
       "      <td>stellaluna</td>\n",
       "      <td>2</td>\n",
       "    </tr>\n",
       "    <tr>\n",
       "      <td>50</td>\n",
       "      <td>olivia</td>\n",
       "      <td>3</td>\n",
       "    </tr>\n",
       "    <tr>\n",
       "      <td>51</td>\n",
       "      <td>madeline</td>\n",
       "      <td>3</td>\n",
       "    </tr>\n",
       "    <tr>\n",
       "      <td>56</td>\n",
       "      <td>tuesday</td>\n",
       "      <td>3</td>\n",
       "    </tr>\n",
       "  </tbody>\n",
       "</table>\n",
       "</div>"
      ],
      "text/plain": [
       "         title  Group\n",
       "15       potty      1\n",
       "17    corduroy      2\n",
       "24  stellaluna      2\n",
       "50      olivia      3\n",
       "51    madeline      3\n",
       "56    tuesday       3"
      ]
     },
     "execution_count": 16,
     "metadata": {},
     "output_type": "execute_result"
    }
   ],
   "source": [
    "#books with shortest title\n",
    "df[df['title_len']==df['title_len'].min()][['title', 'Group']]"
   ]
  },
  {
   "cell_type": "markdown",
   "metadata": {},
   "source": [
    "It is a little surprised for us to see that books with shortest title appear on all groups. Next, we will study the distribution of the title length across different groups."
   ]
  },
  {
   "cell_type": "code",
   "execution_count": 17,
   "metadata": {},
   "outputs": [
    {
     "data": {
      "image/png": "[encoded data removed]",
      "text/plain": [
       "<Figure size 1080x360 with 3 Axes>"
      ]
     },
     "metadata": {
      "needs_background": "light"
     },
     "output_type": "display_data"
    }
   ],
   "source": [
    "#plot the title length for each group\n",
    "fig, axes = plt.subplots(1, 3)\n",
    "# plot counter\n",
    "for c in [1,2,3]:\n",
    "    df[df['Group']==c]['title_len']\n",
    "    df[df['Group']==c]['title_len'].plot(kind='hist', ax=axes[c-1], bins =6, title=f\"Title length in group{c}\",\n",
    "                                figsize=(15,5), range=[1,13])\n",
    "    plt.tight_layout()\n",
    "plt.show()"
   ]
  },
  {
   "cell_type": "markdown",
   "metadata": {},
   "source": [
    "We observe that for each group, title length is mostly concentrated in the range 2-6. We also observe that for group 2 and group 3, there are plenty of books with length=2. In contrast, there are very few books in group 1 with this length. Another visible fact is group 3 is the only group having books with more than 10 words. This kind of makes sense because older kids are more capable of reading long and complex titles."
   ]
  },
  {
   "cell_type": "markdown",
   "metadata": {},
   "source": [
    "We can also ask the following question: is this true that descriptions for books belonging to older groups tend to be longer than the ones for younger kids? This kind of makes sense because the stories in former ones are typically more complicated and hence it takes more effort to describe them. We can easily check this hypothesis by investing some simple statistics."
   ]
  },
  {
   "cell_type": "code",
   "execution_count": 18,
   "metadata": {},
   "outputs": [],
   "source": [
    "df['description_len']=df['description'].apply(lambda x: len(x))"
   ]
  },
  {
   "cell_type": "code",
   "execution_count": 19,
   "metadata": {},
   "outputs": [
    {
     "data": {
      "text/html": [
       "<div>\n",
       "<style scoped>\n",
       "    .dataframe tbody tr th:only-of-type {\n",
       "        vertical-align: middle;\n",
       "    }\n",
       "\n",
       "    .dataframe tbody tr th {\n",
       "        vertical-align: top;\n",
       "    }\n",
       "\n",
       "    .dataframe thead th {\n",
       "        text-align: right;\n",
       "    }\n",
       "</style>\n",
       "<table border=\"1\" class=\"dataframe\">\n",
       "  <thead>\n",
       "    <tr style=\"text-align: right;\">\n",
       "      <th></th>\n",
       "      <th>count</th>\n",
       "      <th>mean</th>\n",
       "      <th>std</th>\n",
       "      <th>min</th>\n",
       "      <th>25%</th>\n",
       "      <th>50%</th>\n",
       "      <th>75%</th>\n",
       "      <th>max</th>\n",
       "    </tr>\n",
       "    <tr>\n",
       "      <th>Group</th>\n",
       "      <th></th>\n",
       "      <th></th>\n",
       "      <th></th>\n",
       "      <th></th>\n",
       "      <th></th>\n",
       "      <th></th>\n",
       "      <th></th>\n",
       "      <th></th>\n",
       "    </tr>\n",
       "  </thead>\n",
       "  <tbody>\n",
       "    <tr>\n",
       "      <td>1</td>\n",
       "      <td>17.0</td>\n",
       "      <td>322.294118</td>\n",
       "      <td>95.823252</td>\n",
       "      <td>182.0</td>\n",
       "      <td>240.0</td>\n",
       "      <td>309.0</td>\n",
       "      <td>361.00</td>\n",
       "      <td>528.0</td>\n",
       "    </tr>\n",
       "    <tr>\n",
       "      <td>2</td>\n",
       "      <td>24.0</td>\n",
       "      <td>386.291667</td>\n",
       "      <td>107.662710</td>\n",
       "      <td>216.0</td>\n",
       "      <td>309.5</td>\n",
       "      <td>363.5</td>\n",
       "      <td>443.75</td>\n",
       "      <td>582.0</td>\n",
       "    </tr>\n",
       "    <tr>\n",
       "      <td>3</td>\n",
       "      <td>38.0</td>\n",
       "      <td>417.973684</td>\n",
       "      <td>79.775186</td>\n",
       "      <td>245.0</td>\n",
       "      <td>360.5</td>\n",
       "      <td>427.5</td>\n",
       "      <td>457.75</td>\n",
       "      <td>627.0</td>\n",
       "    </tr>\n",
       "  </tbody>\n",
       "</table>\n",
       "</div>"
      ],
      "text/plain": [
       "       count        mean         std    min    25%    50%     75%    max\n",
       "Group                                                                   \n",
       "1       17.0  322.294118   95.823252  182.0  240.0  309.0  361.00  528.0\n",
       "2       24.0  386.291667  107.662710  216.0  309.5  363.5  443.75  582.0\n",
       "3       38.0  417.973684   79.775186  245.0  360.5  427.5  457.75  627.0"
      ]
     },
     "execution_count": 19,
     "metadata": {},
     "output_type": "execute_result"
    }
   ],
   "source": [
    "df.groupby('Group')['description_len'].describe()"
   ]
  },
  {
   "cell_type": "markdown",
   "metadata": {},
   "source": [
    "It is visibly clear that the above speculation seems to be supported by the data. Hence, it might be useful to include this information into our models."
   ]
  },
  {
   "cell_type": "markdown",
   "metadata": {},
   "source": [
    "Next, we want to tockenize the title and the description for each book."
   ]
  },
  {
   "cell_type": "code",
   "execution_count": 20,
   "metadata": {},
   "outputs": [],
   "source": [
    "#a function to tockenize a text\n",
    "def tockenize(text):\n",
    "    tockenized_text_1= re.split('\\W+', text)\n",
    "    tockenized_text=[word for word in tockenized_text_1 if len(word)>1]\n",
    "    return tockenized_text"
   ]
  },
  {
   "cell_type": "code",
   "execution_count": 21,
   "metadata": {},
   "outputs": [
    {
     "data": {
      "text/html": [
       "<div>\n",
       "<style scoped>\n",
       "    .dataframe tbody tr th:only-of-type {\n",
       "        vertical-align: middle;\n",
       "    }\n",
       "\n",
       "    .dataframe tbody tr th {\n",
       "        vertical-align: top;\n",
       "    }\n",
       "\n",
       "    .dataframe thead th {\n",
       "        text-align: right;\n",
       "    }\n",
       "</style>\n",
       "<table border=\"1\" class=\"dataframe\">\n",
       "  <thead>\n",
       "    <tr style=\"text-align: right;\">\n",
       "      <th></th>\n",
       "      <th>title</th>\n",
       "      <th>description</th>\n",
       "      <th>Group</th>\n",
       "      <th>count_punct</th>\n",
       "      <th>title_clean</th>\n",
       "      <th>description_clean</th>\n",
       "      <th>title_len</th>\n",
       "      <th>description_len</th>\n",
       "      <th>tockenized_title</th>\n",
       "      <th>tockenized_description</th>\n",
       "    </tr>\n",
       "  </thead>\n",
       "  <tbody>\n",
       "    <tr>\n",
       "      <td>53</td>\n",
       "      <td>the mitten by jan brettthe mitten \\nby jan brett</td>\n",
       "      <td>the story is a ukranian folk tale about the bo...</td>\n",
       "      <td>3</td>\n",
       "      <td>0</td>\n",
       "      <td>the mitten by jan brettthe mitten \\nby jan brett</td>\n",
       "      <td>the story is a ukranian folk tale about the bo...</td>\n",
       "      <td>9</td>\n",
       "      <td>306</td>\n",
       "      <td>[the, mitten, by, jan, brettthe, mitten, by, j...</td>\n",
       "      <td>[the, story, is, ukranian, folk, tale, about, ...</td>\n",
       "    </tr>\n",
       "    <tr>\n",
       "      <td>43</td>\n",
       "      <td>amelia bedelia</td>\n",
       "      <td>amelia bedelia is a series of books about a ma...</td>\n",
       "      <td>3</td>\n",
       "      <td>0</td>\n",
       "      <td>amelia bedelia</td>\n",
       "      <td>amelia bedelia is a series of books about a ma...</td>\n",
       "      <td>2</td>\n",
       "      <td>331</td>\n",
       "      <td>[amelia, bedelia]</td>\n",
       "      <td>[amelia, bedelia, is, series, of, books, about...</td>\n",
       "    </tr>\n",
       "    <tr>\n",
       "      <td>2</td>\n",
       "      <td>brown bear, brown bear what do you see?</td>\n",
       "      <td>a parade of animals of different colors will d...</td>\n",
       "      <td>1</td>\n",
       "      <td>1</td>\n",
       "      <td>brown bear brown bear what do you see</td>\n",
       "      <td>a parade of animals of different colors will d...</td>\n",
       "      <td>8</td>\n",
       "      <td>222</td>\n",
       "      <td>[brown, bear, brown, bear, what, do, you, see]</td>\n",
       "      <td>[parade, of, animals, of, different, colors, w...</td>\n",
       "    </tr>\n",
       "    <tr>\n",
       "      <td>59</td>\n",
       "      <td>eloise: a book for precocious grown ups</td>\n",
       "      <td>eloise is a 6-year-old precocious girl who liv...</td>\n",
       "      <td>3</td>\n",
       "      <td>0</td>\n",
       "      <td>eloise a book for precocious grown ups</td>\n",
       "      <td>eloise is a 6yearold precocious girl who lives...</td>\n",
       "      <td>7</td>\n",
       "      <td>434</td>\n",
       "      <td>[eloise, book, for, precocious, grown, ups]</td>\n",
       "      <td>[eloise, is, year, old, precocious, girl, who,...</td>\n",
       "    </tr>\n",
       "    <tr>\n",
       "      <td>41</td>\n",
       "      <td>alexander and the terrible, \\nhorrible, no goo...</td>\n",
       "      <td>this book helps your child understand what it ...</td>\n",
       "      <td>3</td>\n",
       "      <td>0</td>\n",
       "      <td>alexander and the terrible \\nhorrible no good ...</td>\n",
       "      <td>this book helps your child understand what it ...</td>\n",
       "      <td>10</td>\n",
       "      <td>436</td>\n",
       "      <td>[alexander, and, the, terrible, horrible, no, ...</td>\n",
       "      <td>[this, book, helps, your, child, understand, w...</td>\n",
       "    </tr>\n",
       "  </tbody>\n",
       "</table>\n",
       "</div>"
      ],
      "text/plain": [
       "                                                title  \\\n",
       "53   the mitten by jan brettthe mitten \\nby jan brett   \n",
       "43                                    amelia bedelia    \n",
       "2             brown bear, brown bear what do you see?   \n",
       "59           eloise: a book for precocious grown ups    \n",
       "41  alexander and the terrible, \\nhorrible, no goo...   \n",
       "\n",
       "                                          description  Group  count_punct  \\\n",
       "53  the story is a ukranian folk tale about the bo...      3            0   \n",
       "43  amelia bedelia is a series of books about a ma...      3            0   \n",
       "2   a parade of animals of different colors will d...      1            1   \n",
       "59  eloise is a 6-year-old precocious girl who liv...      3            0   \n",
       "41  this book helps your child understand what it ...      3            0   \n",
       "\n",
       "                                          title_clean  \\\n",
       "53   the mitten by jan brettthe mitten \\nby jan brett   \n",
       "43                                    amelia bedelia    \n",
       "2               brown bear brown bear what do you see   \n",
       "59            eloise a book for precocious grown ups    \n",
       "41  alexander and the terrible \\nhorrible no good ...   \n",
       "\n",
       "                                    description_clean  title_len  \\\n",
       "53  the story is a ukranian folk tale about the bo...          9   \n",
       "43  amelia bedelia is a series of books about a ma...          2   \n",
       "2   a parade of animals of different colors will d...          8   \n",
       "59  eloise is a 6yearold precocious girl who lives...          7   \n",
       "41  this book helps your child understand what it ...         10   \n",
       "\n",
       "    description_len                                   tockenized_title  \\\n",
       "53              306  [the, mitten, by, jan, brettthe, mitten, by, j...   \n",
       "43              331                                  [amelia, bedelia]   \n",
       "2               222     [brown, bear, brown, bear, what, do, you, see]   \n",
       "59              434        [eloise, book, for, precocious, grown, ups]   \n",
       "41              436  [alexander, and, the, terrible, horrible, no, ...   \n",
       "\n",
       "                               tockenized_description  \n",
       "53  [the, story, is, ukranian, folk, tale, about, ...  \n",
       "43  [amelia, bedelia, is, series, of, books, about...  \n",
       "2   [parade, of, animals, of, different, colors, w...  \n",
       "59  [eloise, is, year, old, precocious, girl, who,...  \n",
       "41  [this, book, helps, your, child, understand, w...  "
      ]
     },
     "execution_count": 21,
     "metadata": {},
     "output_type": "execute_result"
    }
   ],
   "source": [
    "#apply the tockenize function to create new columns \n",
    "df['tockenized_title']=df['title'].apply(lambda x: tockenize(x))\n",
    "df['tockenized_description']=df['description'].apply(lambda x: tockenize(x))\n",
    "df.sample(5)"
   ]
  },
  {
   "cell_type": "markdown",
   "metadata": {},
   "source": [
    "We can also filter out irrelevant information by removing stopwords. Let's take a quick look at the list of English stopwords."
   ]
  },
  {
   "cell_type": "code",
   "execution_count": 22,
   "metadata": {},
   "outputs": [
    {
     "name": "stdout",
     "output_type": "stream",
     "text": [
      "['i', 'me', 'my', 'myself', 'we', 'our', 'ours', 'ourselves', 'you', \"you're\", \"you've\", \"you'll\", \"you'd\", 'your', 'yours', 'yourself', 'yourselves', 'he', 'him', 'his', 'himself', 'she', \"she's\", 'her', 'hers', 'herself', 'it', \"it's\", 'its', 'itself', 'they', 'them', 'their', 'theirs', 'themselves', 'what', 'which', 'who', 'whom', 'this', 'that', \"that'll\", 'these', 'those', 'am', 'is', 'are', 'was', 'were', 'be', 'been', 'being', 'have', 'has', 'had', 'having', 'do', 'does', 'did', 'doing', 'a', 'an', 'the', 'and', 'but', 'if', 'or', 'because', 'as', 'until', 'while', 'of', 'at', 'by', 'for', 'with', 'about', 'against', 'between', 'into', 'through', 'during', 'before', 'after', 'above', 'below', 'to', 'from', 'up', 'down', 'in', 'out', 'on', 'off', 'over', 'under', 'again', 'further', 'then', 'once', 'here', 'there', 'when', 'where', 'why', 'how', 'all', 'any', 'both', 'each', 'few', 'more', 'most', 'other', 'some', 'such', 'no', 'nor', 'not', 'only', 'own', 'same', 'so', 'than', 'too', 'very', 's', 't', 'can', 'will', 'just', 'don', \"don't\", 'should', \"should've\", 'now', 'd', 'll', 'm', 'o', 're', 've', 'y', 'ain', 'aren', \"aren't\", 'couldn', \"couldn't\", 'didn', \"didn't\", 'doesn', \"doesn't\", 'hadn', \"hadn't\", 'hasn', \"hasn't\", 'haven', \"haven't\", 'isn', \"isn't\", 'ma', 'mightn', \"mightn't\", 'mustn', \"mustn't\", 'needn', \"needn't\", 'shan', \"shan't\", 'shouldn', \"shouldn't\", 'wasn', \"wasn't\", 'weren', \"weren't\", 'won', \"won't\", 'wouldn', \"wouldn't\"]\n"
     ]
    }
   ],
   "source": [
    "import nltk\n",
    "\n",
    "stopwords = nltk.corpus.stopwords.words('english')\n",
    "print(stopwords)"
   ]
  },
  {
   "cell_type": "markdown",
   "metadata": {},
   "source": [
    "Using this list, we can filter out the more relevant words."
   ]
  },
  {
   "cell_type": "code",
   "execution_count": 23,
   "metadata": {},
   "outputs": [],
   "source": [
    "#remove stopwords\n",
    "def no_stopwords(text):\n",
    "    no_stopwords_text=[char for char in text if char not in stopwords]\n",
    "    return no_stopwords_text"
   ]
  },
  {
   "cell_type": "code",
   "execution_count": 24,
   "metadata": {},
   "outputs": [
    {
     "data": {
      "text/html": [
       "<div>\n",
       "<style scoped>\n",
       "    .dataframe tbody tr th:only-of-type {\n",
       "        vertical-align: middle;\n",
       "    }\n",
       "\n",
       "    .dataframe tbody tr th {\n",
       "        vertical-align: top;\n",
       "    }\n",
       "\n",
       "    .dataframe thead th {\n",
       "        text-align: right;\n",
       "    }\n",
       "</style>\n",
       "<table border=\"1\" class=\"dataframe\">\n",
       "  <thead>\n",
       "    <tr style=\"text-align: right;\">\n",
       "      <th></th>\n",
       "      <th>title</th>\n",
       "      <th>description</th>\n",
       "      <th>Group</th>\n",
       "      <th>count_punct</th>\n",
       "      <th>title_clean</th>\n",
       "      <th>description_clean</th>\n",
       "      <th>title_len</th>\n",
       "      <th>description_len</th>\n",
       "      <th>tockenized_title</th>\n",
       "      <th>tockenized_description</th>\n",
       "      <th>no_stopwords_title</th>\n",
       "      <th>no_stopwords_description</th>\n",
       "    </tr>\n",
       "  </thead>\n",
       "  <tbody>\n",
       "    <tr>\n",
       "      <td>59</td>\n",
       "      <td>eloise: a book for precocious grown ups</td>\n",
       "      <td>eloise is a 6-year-old precocious girl who liv...</td>\n",
       "      <td>3</td>\n",
       "      <td>0</td>\n",
       "      <td>eloise a book for precocious grown ups</td>\n",
       "      <td>eloise is a 6yearold precocious girl who lives...</td>\n",
       "      <td>7</td>\n",
       "      <td>434</td>\n",
       "      <td>[eloise, book, for, precocious, grown, ups]</td>\n",
       "      <td>[eloise, is, year, old, precocious, girl, who,...</td>\n",
       "      <td>[eloise, book, precocious, grown, ups]</td>\n",
       "      <td>[eloise, year, old, precocious, girl, lives, p...</td>\n",
       "    </tr>\n",
       "    <tr>\n",
       "      <td>17</td>\n",
       "      <td>corduroy</td>\n",
       "      <td>acclaimed as one of school library journal’s “...</td>\n",
       "      <td>2</td>\n",
       "      <td>0</td>\n",
       "      <td>corduroy</td>\n",
       "      <td>acclaimed as one of school library journal’s “...</td>\n",
       "      <td>1</td>\n",
       "      <td>328</td>\n",
       "      <td>[corduroy]</td>\n",
       "      <td>[acclaimed, as, one, of, school, library, jour...</td>\n",
       "      <td>[corduroy]</td>\n",
       "      <td>[acclaimed, one, school, library, journal, top...</td>\n",
       "    </tr>\n",
       "    <tr>\n",
       "      <td>68</td>\n",
       "      <td>the borrowers</td>\n",
       "      <td>the borrowers is a series of classic books abo...</td>\n",
       "      <td>3</td>\n",
       "      <td>0</td>\n",
       "      <td>the borrowers</td>\n",
       "      <td>the borrowers is a series of classic books abo...</td>\n",
       "      <td>2</td>\n",
       "      <td>384</td>\n",
       "      <td>[the, borrowers]</td>\n",
       "      <td>[the, borrowers, is, series, of, classic, book...</td>\n",
       "      <td>[borrowers]</td>\n",
       "      <td>[borrowers, series, classic, books, clock, fam...</td>\n",
       "    </tr>\n",
       "  </tbody>\n",
       "</table>\n",
       "</div>"
      ],
      "text/plain": [
       "                                       title  \\\n",
       "59  eloise: a book for precocious grown ups    \n",
       "17                                  corduroy   \n",
       "68                             the borrowers   \n",
       "\n",
       "                                          description  Group  count_punct  \\\n",
       "59  eloise is a 6-year-old precocious girl who liv...      3            0   \n",
       "17  acclaimed as one of school library journal’s “...      2            0   \n",
       "68  the borrowers is a series of classic books abo...      3            0   \n",
       "\n",
       "                                title_clean  \\\n",
       "59  eloise a book for precocious grown ups    \n",
       "17                                 corduroy   \n",
       "68                            the borrowers   \n",
       "\n",
       "                                    description_clean  title_len  \\\n",
       "59  eloise is a 6yearold precocious girl who lives...          7   \n",
       "17  acclaimed as one of school library journal’s “...          1   \n",
       "68  the borrowers is a series of classic books abo...          2   \n",
       "\n",
       "    description_len                             tockenized_title  \\\n",
       "59              434  [eloise, book, for, precocious, grown, ups]   \n",
       "17              328                                   [corduroy]   \n",
       "68              384                             [the, borrowers]   \n",
       "\n",
       "                               tockenized_description  \\\n",
       "59  [eloise, is, year, old, precocious, girl, who,...   \n",
       "17  [acclaimed, as, one, of, school, library, jour...   \n",
       "68  [the, borrowers, is, series, of, classic, book...   \n",
       "\n",
       "                        no_stopwords_title  \\\n",
       "59  [eloise, book, precocious, grown, ups]   \n",
       "17                              [corduroy]   \n",
       "68                             [borrowers]   \n",
       "\n",
       "                             no_stopwords_description  \n",
       "59  [eloise, year, old, precocious, girl, lives, p...  \n",
       "17  [acclaimed, one, school, library, journal, top...  \n",
       "68  [borrowers, series, classic, books, clock, fam...  "
      ]
     },
     "execution_count": 24,
     "metadata": {},
     "output_type": "execute_result"
    }
   ],
   "source": [
    "df['no_stopwords_title']=df['tockenized_title'].apply(lambda x: no_stopwords(x))\n",
    "df['no_stopwords_description']=df['tockenized_description'].apply(lambda x: no_stopwords(x))\n",
    "df.sample(3)"
   ]
  },
  {
   "cell_type": "markdown",
   "metadata": {},
   "source": [
    "Next, we can simplify our tockenized words by using stemming and/or lemmatizing. Very roughly speaking, while stemming is based on rule-based algorithms to chop-offs irrelevant characters, lemmatizing is based on more complicated analysis of words. For more details about the difference between the two approaches, we refer to the following website\n",
    "\n",
    "https://nlp.stanford.edu/IR-book/html/htmledition/stemming-and-lemmatization-1.html\n",
    "\n",
    "Both stemming and lemmatizing is available in the nltk library. \n",
    "\n"
   ]
  },
  {
   "cell_type": "code",
   "execution_count": 25,
   "metadata": {},
   "outputs": [],
   "source": [
    "import nltk\n",
    "wn = nltk.WordNetLemmatizer()\n",
    "ps = nltk.PorterStemmer()"
   ]
  },
  {
   "cell_type": "code",
   "execution_count": 26,
   "metadata": {},
   "outputs": [],
   "source": [
    "#functions to stem and lemmatize a list of words\n",
    "\n",
    "def stem(text):\n",
    "    stemmed_text=[ps.stem(word) for word in text]\n",
    "    return stemmed_text\n",
    "def lemmatize(text):\n",
    "    lemmatized_text=[wn.lemmatize(word) for word in text]\n",
    "    return lemmatized_text\n",
    "    "
   ]
  },
  {
   "cell_type": "code",
   "execution_count": 27,
   "metadata": {},
   "outputs": [
    {
     "data": {
      "text/html": [
       "<div>\n",
       "<style scoped>\n",
       "    .dataframe tbody tr th:only-of-type {\n",
       "        vertical-align: middle;\n",
       "    }\n",
       "\n",
       "    .dataframe tbody tr th {\n",
       "        vertical-align: top;\n",
       "    }\n",
       "\n",
       "    .dataframe thead th {\n",
       "        text-align: right;\n",
       "    }\n",
       "</style>\n",
       "<table border=\"1\" class=\"dataframe\">\n",
       "  <thead>\n",
       "    <tr style=\"text-align: right;\">\n",
       "      <th></th>\n",
       "      <th>title</th>\n",
       "      <th>description</th>\n",
       "      <th>Group</th>\n",
       "      <th>count_punct</th>\n",
       "      <th>title_clean</th>\n",
       "      <th>description_clean</th>\n",
       "      <th>title_len</th>\n",
       "      <th>description_len</th>\n",
       "      <th>tockenized_title</th>\n",
       "      <th>tockenized_description</th>\n",
       "      <th>no_stopwords_title</th>\n",
       "      <th>no_stopwords_description</th>\n",
       "      <th>stemmed_title</th>\n",
       "      <th>stemmed_description</th>\n",
       "      <th>lemmatized_description</th>\n",
       "    </tr>\n",
       "  </thead>\n",
       "  <tbody>\n",
       "    <tr>\n",
       "      <td>0</td>\n",
       "      <td>the very hungry caterpillar</td>\n",
       "      <td>it follows a caterpillar from being hatched fr...</td>\n",
       "      <td>1</td>\n",
       "      <td>0</td>\n",
       "      <td>the very hungry caterpillar</td>\n",
       "      <td>it follows a caterpillar from being hatched fr...</td>\n",
       "      <td>4</td>\n",
       "      <td>182</td>\n",
       "      <td>[the, very, hungry, caterpillar]</td>\n",
       "      <td>[it, follows, caterpillar, from, being, hatche...</td>\n",
       "      <td>[hungry, caterpillar]</td>\n",
       "      <td>[follows, caterpillar, hatched, egg, eating, w...</td>\n",
       "      <td>[hungri, caterpillar]</td>\n",
       "      <td>[follow, caterpillar, hatch, egg, eat, way, di...</td>\n",
       "      <td>[follows, caterpillar, hatched, egg, eating, w...</td>\n",
       "    </tr>\n",
       "    <tr>\n",
       "      <td>1</td>\n",
       "      <td>chicka chicka boom boom</td>\n",
       "      <td>this book is the baby’s fanciful introduction ...</td>\n",
       "      <td>1</td>\n",
       "      <td>0</td>\n",
       "      <td>chicka chicka boom boom</td>\n",
       "      <td>this book is the baby’s fanciful introduction ...</td>\n",
       "      <td>4</td>\n",
       "      <td>316</td>\n",
       "      <td>[chicka, chicka, boom, boom]</td>\n",
       "      <td>[this, book, is, the, baby, fanciful, introduc...</td>\n",
       "      <td>[chicka, chicka, boom, boom]</td>\n",
       "      <td>[book, baby, fanciful, introduction, abc, char...</td>\n",
       "      <td>[chicka, chicka, boom, boom]</td>\n",
       "      <td>[book, babi, fanci, introduct, abc, charact, b...</td>\n",
       "      <td>[book, baby, fanciful, introduction, abc, char...</td>\n",
       "    </tr>\n",
       "  </tbody>\n",
       "</table>\n",
       "</div>"
      ],
      "text/plain": [
       "                         title  \\\n",
       "0  the very hungry caterpillar   \n",
       "1     chicka chicka boom boom    \n",
       "\n",
       "                                         description  Group  count_punct  \\\n",
       "0  it follows a caterpillar from being hatched fr...      1            0   \n",
       "1  this book is the baby’s fanciful introduction ...      1            0   \n",
       "\n",
       "                   title_clean  \\\n",
       "0  the very hungry caterpillar   \n",
       "1     chicka chicka boom boom    \n",
       "\n",
       "                                   description_clean  title_len  \\\n",
       "0  it follows a caterpillar from being hatched fr...          4   \n",
       "1  this book is the baby’s fanciful introduction ...          4   \n",
       "\n",
       "   description_len                  tockenized_title  \\\n",
       "0              182  [the, very, hungry, caterpillar]   \n",
       "1              316      [chicka, chicka, boom, boom]   \n",
       "\n",
       "                              tockenized_description  \\\n",
       "0  [it, follows, caterpillar, from, being, hatche...   \n",
       "1  [this, book, is, the, baby, fanciful, introduc...   \n",
       "\n",
       "             no_stopwords_title  \\\n",
       "0         [hungry, caterpillar]   \n",
       "1  [chicka, chicka, boom, boom]   \n",
       "\n",
       "                            no_stopwords_description  \\\n",
       "0  [follows, caterpillar, hatched, egg, eating, w...   \n",
       "1  [book, baby, fanciful, introduction, abc, char...   \n",
       "\n",
       "                  stemmed_title  \\\n",
       "0         [hungri, caterpillar]   \n",
       "1  [chicka, chicka, boom, boom]   \n",
       "\n",
       "                                 stemmed_description  \\\n",
       "0  [follow, caterpillar, hatch, egg, eat, way, di...   \n",
       "1  [book, babi, fanci, introduct, abc, charact, b...   \n",
       "\n",
       "                              lemmatized_description  \n",
       "0  [follows, caterpillar, hatched, egg, eating, w...  \n",
       "1  [book, baby, fanciful, introduction, abc, char...  "
      ]
     },
     "execution_count": 27,
     "metadata": {},
     "output_type": "execute_result"
    }
   ],
   "source": [
    "#stem and lemmatize our bag of words\n",
    "df['stemmed_title']=df['no_stopwords_title'].apply(lambda x: stem(x))\n",
    "df['stemmed_description']=df['no_stopwords_description'].apply(lambda x: stem(x))\n",
    "df['lemmatized_description']=df['no_stopwords_description'].apply(lambda x: lemmatize(x))\n",
    "df.head(2)"
   ]
  },
  {
   "cell_type": "markdown",
   "metadata": {},
   "source": [
    "Since the author's descriptions use rather common words, we suspect that there is not too much differnce between the\n",
    "no_stopwords_description and its lemmatized version. We can check this by using the following code."
   ]
  },
  {
   "cell_type": "code",
   "execution_count": 28,
   "metadata": {},
   "outputs": [],
   "source": [
    "#compute the difference between no_stopwords_description and its lemmatized version\n",
    "test_df=df.copy()[['no_stopwords_description', 'lemmatized_description']]\n",
    "my_list=[]\n",
    "for i in range(len(test_df)):\n",
    "    difference_i=sum([test_df['no_stopwords_description'][i][j] != test_df['lemmatized_description'][i][j]\n",
    "                    for j in range(len(test_df['no_stopwords_description'][i]))])\n",
    "    my_list.append(difference_i)\n",
    "test_df['count_difference']=my_list    \n",
    "test_df['percentage_difference']=test_df['count_difference']/df['no_stopwords_description'].apply(lambda x: len(x))"
   ]
  },
  {
   "cell_type": "code",
   "execution_count": 29,
   "metadata": {},
   "outputs": [
    {
     "data": {
      "image/png": "[encoded data removed]",
      "text/plain": [
       "<Figure size 432x288 with 1 Axes>"
      ]
     },
     "metadata": {
      "needs_background": "light"
     },
     "output_type": "display_data"
    }
   ],
   "source": [
    "test_df['percentage_difference'].plot(kind='hist', bins=6)\n",
    "plt.xlabel('Percentage difference between the original and the lemmatized version')\n",
    "plt.show()"
   ]
  },
  {
   "cell_type": "markdown",
   "metadata": {},
   "source": [
    "We see that the percentage difference is concentrated in the range 15-25 percent. It seems to us that such difference\n",
    "is significant enough to distinguish the original text and its lemmatized version. Consequently, we will keep the lemmatized version in our dataset."
   ]
  },
  {
   "cell_type": "markdown",
   "metadata": {},
   "source": [
    "We can ask the same question about the title and its lemmatized version. "
   ]
  },
  {
   "cell_type": "code",
   "execution_count": 30,
   "metadata": {},
   "outputs": [
    {
     "data": {
      "text/plain": [
       "0    58\n",
       "1    17\n",
       "2     3\n",
       "3     1\n",
       "Name: count_difference, dtype: int64"
      ]
     },
     "execution_count": 30,
     "metadata": {},
     "output_type": "execute_result"
    }
   ],
   "source": [
    "#compute the difference between no_stopwords_description and its lemmatized version\n",
    "test_df_1=df.copy()[['no_stopwords_title', 'Group']]\n",
    "test_df_1['lemmatized_title']=df['no_stopwords_title'].apply(lambda x: lemmatize(x))\n",
    "my_list_1=[]\n",
    "for i in range(len(test_df_1)):\n",
    "    difference_i=sum([test_df_1['no_stopwords_title'][i][j] != test_df_1['lemmatized_title'][i][j]\n",
    "                    for j in range(len(test_df_1['no_stopwords_title'][i]))])\n",
    "    my_list_1.append(difference_i)\n",
    "test_df_1['count_difference']=my_list_1\n",
    "test_df_1['count_difference'].value_counts()"
   ]
  },
  {
   "cell_type": "markdown",
   "metadata": {},
   "source": [
    "It seems that there is not much difference between the title and its lemmatized one. Therefore, we will not include it into our dataframe."
   ]
  },
  {
   "cell_type": "markdown",
   "metadata": {},
   "source": [
    "In our previous discussion, it is discovered that the lengths of the descriptions provide meaningful information about aged-groups. We wonder whether the same is true for the version with no_stopwords (note that the length of the no_stopword version is the same as its stemmed/lemmatized version.) Again, we can use descriptive statistics to solve this problem. "
   ]
  },
  {
   "cell_type": "code",
   "execution_count": 31,
   "metadata": {},
   "outputs": [],
   "source": [
    "test_df_2=df.copy()[['Group']]\n",
    "test_df_2['no_stopwords_description_len']=df['no_stopwords_description'].apply(lambda x: len(x))"
   ]
  },
  {
   "cell_type": "code",
   "execution_count": 32,
   "metadata": {},
   "outputs": [
    {
     "data": {
      "text/html": [
       "<div>\n",
       "<style scoped>\n",
       "    .dataframe tbody tr th:only-of-type {\n",
       "        vertical-align: middle;\n",
       "    }\n",
       "\n",
       "    .dataframe tbody tr th {\n",
       "        vertical-align: top;\n",
       "    }\n",
       "\n",
       "    .dataframe thead th {\n",
       "        text-align: right;\n",
       "    }\n",
       "</style>\n",
       "<table border=\"1\" class=\"dataframe\">\n",
       "  <thead>\n",
       "    <tr style=\"text-align: right;\">\n",
       "      <th></th>\n",
       "      <th>count</th>\n",
       "      <th>mean</th>\n",
       "      <th>std</th>\n",
       "      <th>min</th>\n",
       "      <th>25%</th>\n",
       "      <th>50%</th>\n",
       "      <th>75%</th>\n",
       "      <th>max</th>\n",
       "    </tr>\n",
       "    <tr>\n",
       "      <th>Group</th>\n",
       "      <th></th>\n",
       "      <th></th>\n",
       "      <th></th>\n",
       "      <th></th>\n",
       "      <th></th>\n",
       "      <th></th>\n",
       "      <th></th>\n",
       "      <th></th>\n",
       "    </tr>\n",
       "  </thead>\n",
       "  <tbody>\n",
       "    <tr>\n",
       "      <td>1</td>\n",
       "      <td>17.0</td>\n",
       "      <td>28.411765</td>\n",
       "      <td>9.124547</td>\n",
       "      <td>14.0</td>\n",
       "      <td>23.00</td>\n",
       "      <td>26.0</td>\n",
       "      <td>36.00</td>\n",
       "      <td>48.0</td>\n",
       "    </tr>\n",
       "    <tr>\n",
       "      <td>2</td>\n",
       "      <td>24.0</td>\n",
       "      <td>37.083333</td>\n",
       "      <td>10.133529</td>\n",
       "      <td>21.0</td>\n",
       "      <td>29.50</td>\n",
       "      <td>36.0</td>\n",
       "      <td>45.25</td>\n",
       "      <td>54.0</td>\n",
       "    </tr>\n",
       "    <tr>\n",
       "      <td>3</td>\n",
       "      <td>38.0</td>\n",
       "      <td>39.131579</td>\n",
       "      <td>8.200762</td>\n",
       "      <td>22.0</td>\n",
       "      <td>32.25</td>\n",
       "      <td>38.5</td>\n",
       "      <td>45.00</td>\n",
       "      <td>60.0</td>\n",
       "    </tr>\n",
       "  </tbody>\n",
       "</table>\n",
       "</div>"
      ],
      "text/plain": [
       "       count       mean        std   min    25%   50%    75%   max\n",
       "Group                                                             \n",
       "1       17.0  28.411765   9.124547  14.0  23.00  26.0  36.00  48.0\n",
       "2       24.0  37.083333  10.133529  21.0  29.50  36.0  45.25  54.0\n",
       "3       38.0  39.131579   8.200762  22.0  32.25  38.5  45.00  60.0"
      ]
     },
     "execution_count": 32,
     "metadata": {},
     "output_type": "execute_result"
    }
   ],
   "source": [
    "test_df_2.groupby('Group')['no_stopwords_description_len'].describe()"
   ]
  },
  {
   "cell_type": "markdown",
   "metadata": {},
   "source": [
    "The difference between group 1 and the other groups seems to be significant. However, for group 2 and group 3, this feature is rather similar. Therefore, we will not use this feature in our model because the corresponding description_len feature is similar but more distinguishable.   "
   ]
  },
  {
   "cell_type": "markdown",
   "metadata": {},
   "source": [
    "Next, we will quantify the raw information that we obtained so far. To do so, we will use the Countvectorize function \n",
    "in skit-learn."
   ]
  },
  {
   "cell_type": "code",
   "execution_count": 33,
   "metadata": {},
   "outputs": [],
   "source": [
    "from sklearn.feature_extraction.text import CountVectorizer\n",
    "from sklearn.feature_extraction.text import TfidfVectorizer\n"
   ]
  },
  {
   "cell_type": "markdown",
   "metadata": {},
   "source": [
    "First we will create a document-term data for the title."
   ]
  },
  {
   "cell_type": "code",
   "execution_count": 34,
   "metadata": {},
   "outputs": [],
   "source": [
    "#create a document-term matrix for the title data\n",
    "count_vectorize_title= CountVectorizer()\n",
    "X_counts_title = count_vectorize_title.fit_transform(df['stemmed_title'].apply(lambda x: \" \".join(x)))\n",
    "df_title=pd.DataFrame(X_counts_title.toarray(), columns=count_vectorize_title.get_feature_names())\n"
   ]
  },
  {
   "cell_type": "markdown",
   "metadata": {},
   "source": [
    "We can also create a TF-IDF version of the title."
   ]
  },
  {
   "cell_type": "code",
   "execution_count": 35,
   "metadata": {},
   "outputs": [],
   "source": [
    "#create a document-term matrix for the title data\n",
    "tfidf_vectorize_title= TfidfVectorizer()\n",
    "X_tfidf_title = tfidf_vectorize_title.fit_transform(df['stemmed_title'].apply(lambda x: \" \".join(x)))\n",
    "df_title_tfidf=pd.DataFrame(X_counts_title.toarray(), columns=tfidf_vectorize_title.get_feature_names())\n"
   ]
  },
  {
   "cell_type": "markdown",
   "metadata": {},
   "source": [
    "Next, we will use the stemmed_description feature to create a document-term data."
   ]
  },
  {
   "cell_type": "code",
   "execution_count": 36,
   "metadata": {},
   "outputs": [],
   "source": [
    "#document-term data from the stemmed_description data\n",
    "cv_stemmed_description= CountVectorizer()\n",
    "X_stemmed_description = cv_stemmed_description.fit_transform(df['stemmed_description'].apply(lambda x: \" \".join(x)))\n",
    "df_stemmed_description=pd.DataFrame(X_stemmed_description.toarray(), columns=cv_stemmed_description.get_feature_names())"
   ]
  },
  {
   "cell_type": "markdown",
   "metadata": {},
   "source": [
    "We will also create a tfidf version."
   ]
  },
  {
   "cell_type": "code",
   "execution_count": 37,
   "metadata": {},
   "outputs": [],
   "source": [
    "cv_tfidf_description=TfidfVectorizer()\n",
    "X_tfidf_description=cv_tfidf_description.fit_transform(df['stemmed_description'].apply(lambda x: \" \".join(x)))\n",
    "df_tfidf_description= pd.DataFrame(X_tfidf_description.toarray(), columns=cv_tfidf_description.get_feature_names())"
   ]
  },
  {
   "cell_type": "markdown",
   "metadata": {},
   "source": [
    "We plan to comare our models with respect to the stemmed and lemmatized data so we will create a document-term matrix\n",
    "for the lemmatized description as well. "
   ]
  },
  {
   "cell_type": "code",
   "execution_count": 38,
   "metadata": {},
   "outputs": [],
   "source": [
    "#document-term data from the lemmatizeddescription data\n",
    "cv_lemma_description= CountVectorizer()\n",
    "X_lemma_description = cv_lemma_description.fit_transform(df['lemmatized_description'].apply(lambda x: \" \".join(x)))\n",
    "df_lemmatized_description=pd.DataFrame(X_lemma_description.toarray(), columns=cv_lemma_description.get_feature_names())"
   ]
  },
  {
   "cell_type": "markdown",
   "metadata": {},
   "source": [
    "We will create a data frame containing the stemmed_description datafarme together with the following features: description_len, title_len,count_punct, and group."
   ]
  },
  {
   "cell_type": "code",
   "execution_count": 39,
   "metadata": {},
   "outputs": [],
   "source": [
    "stemmed_df=pd.concat([df[['description_len',\n",
    "                          'title_len', 'Group', 'count_punct']], df_stemmed_description, df_title], axis=1)"
   ]
  },
  {
   "cell_type": "markdown",
   "metadata": {},
   "source": [
    "Similarly, we will create a data frame with the lemmatitized_description dataframe together with the following features: description_len, title_len, count_punct, and group. "
   ]
  },
  {
   "cell_type": "code",
   "execution_count": 40,
   "metadata": {},
   "outputs": [],
   "source": [
    "lemmatized_df=pd.concat([df[['description_len', 'title_len', \n",
    "                             'Group', 'count_punct']], df_lemmatized_description, df_title], axis=1)"
   ]
  },
  {
   "cell_type": "markdown",
   "metadata": {},
   "source": [
    "Finally, we can also create a DF-TIF version."
   ]
  },
  {
   "cell_type": "code",
   "execution_count": 41,
   "metadata": {},
   "outputs": [],
   "source": [
    "df_tfidf=pd.concat([df[['description_len', 'title_len', \n",
    "                             'Group', 'count_punct']], df_tfidf_description, df_title], axis=1)"
   ]
  },
  {
   "cell_type": "markdown",
   "metadata": {},
   "source": [
    "Before we develop some machine learning models for classifcation, it would be interesting to see how often the word \"read\" appears in the description. "
   ]
  },
  {
   "cell_type": "code",
   "execution_count": 42,
   "metadata": {},
   "outputs": [],
   "source": [
    "#count the number of times that the word \"read\" appears in the description\n",
    "read=df.copy()[['Group']]\n",
    "my_list=[0]*len(read)\n",
    "for i in range(len(read)):\n",
    "    my_list[i]=sum(['read' == df['stemmed_description'][i][j] for j in range(len(df['stemmed_description'][i]))])\n",
    "read['read_count']=my_list    \n"
   ]
  },
  {
   "cell_type": "code",
   "execution_count": 43,
   "metadata": {},
   "outputs": [
    {
     "data": {
      "image/png": "[encoded data removed]",
      "text/plain": [
       "<Figure size 1080x360 with 3 Axes>"
      ]
     },
     "metadata": {
      "needs_background": "light"
     },
     "output_type": "display_data"
    }
   ],
   "source": [
    "#bar plot of the number of times the word read appeared in the description\n",
    "fig, axes = plt.subplots(1, 3)\n",
    "# plot counter\n",
    "for c in [1,2,3]:\n",
    "    read[read['Group']==c]['read_count'].plot(kind='bar', ax=axes[c-1], \n",
    "                                              title=f\"number of times the word read appeares in group{c}\",\n",
    "                                               figsize=(15,5))\n",
    "    plt.tight_layout()\n",
    "plt.show()"
   ]
  },
  {
   "cell_type": "markdown",
   "metadata": {},
   "source": [
    "We can also use descriptive statistics to answer this question."
   ]
  },
  {
   "cell_type": "code",
   "execution_count": 44,
   "metadata": {},
   "outputs": [
    {
     "data": {
      "text/html": [
       "<div>\n",
       "<style scoped>\n",
       "    .dataframe tbody tr th:only-of-type {\n",
       "        vertical-align: middle;\n",
       "    }\n",
       "\n",
       "    .dataframe tbody tr th {\n",
       "        vertical-align: top;\n",
       "    }\n",
       "\n",
       "    .dataframe thead th {\n",
       "        text-align: right;\n",
       "    }\n",
       "</style>\n",
       "<table border=\"1\" class=\"dataframe\">\n",
       "  <thead>\n",
       "    <tr style=\"text-align: right;\">\n",
       "      <th></th>\n",
       "      <th>count</th>\n",
       "      <th>mean</th>\n",
       "      <th>std</th>\n",
       "      <th>min</th>\n",
       "      <th>25%</th>\n",
       "      <th>50%</th>\n",
       "      <th>75%</th>\n",
       "      <th>max</th>\n",
       "    </tr>\n",
       "    <tr>\n",
       "      <th>Group</th>\n",
       "      <th></th>\n",
       "      <th></th>\n",
       "      <th></th>\n",
       "      <th></th>\n",
       "      <th></th>\n",
       "      <th></th>\n",
       "      <th></th>\n",
       "      <th></th>\n",
       "    </tr>\n",
       "  </thead>\n",
       "  <tbody>\n",
       "    <tr>\n",
       "      <td>1</td>\n",
       "      <td>17.0</td>\n",
       "      <td>0.529412</td>\n",
       "      <td>0.717430</td>\n",
       "      <td>0.0</td>\n",
       "      <td>0.0</td>\n",
       "      <td>0.0</td>\n",
       "      <td>1.0</td>\n",
       "      <td>2.0</td>\n",
       "    </tr>\n",
       "    <tr>\n",
       "      <td>2</td>\n",
       "      <td>24.0</td>\n",
       "      <td>0.583333</td>\n",
       "      <td>0.653863</td>\n",
       "      <td>0.0</td>\n",
       "      <td>0.0</td>\n",
       "      <td>0.5</td>\n",
       "      <td>1.0</td>\n",
       "      <td>2.0</td>\n",
       "    </tr>\n",
       "    <tr>\n",
       "      <td>3</td>\n",
       "      <td>38.0</td>\n",
       "      <td>0.210526</td>\n",
       "      <td>0.528020</td>\n",
       "      <td>0.0</td>\n",
       "      <td>0.0</td>\n",
       "      <td>0.0</td>\n",
       "      <td>0.0</td>\n",
       "      <td>2.0</td>\n",
       "    </tr>\n",
       "  </tbody>\n",
       "</table>\n",
       "</div>"
      ],
      "text/plain": [
       "       count      mean       std  min  25%  50%  75%  max\n",
       "Group                                                    \n",
       "1       17.0  0.529412  0.717430  0.0  0.0  0.0  1.0  2.0\n",
       "2       24.0  0.583333  0.653863  0.0  0.0  0.5  1.0  2.0\n",
       "3       38.0  0.210526  0.528020  0.0  0.0  0.0  0.0  2.0"
      ]
     },
     "execution_count": 44,
     "metadata": {},
     "output_type": "execute_result"
    }
   ],
   "source": [
    "read.groupby('Group')['read_count'].describe()"
   ]
  },
  {
   "cell_type": "markdown",
   "metadata": {},
   "source": [
    "It is clear that the word \"read\" appears more often in the younger groups. Perhaps, one reason is that the descriptions for older aged-group are mostly to summarize the story (rather than describe what readers can do with the books.)"
   ]
  },
  {
   "cell_type": "markdown",
   "metadata": {},
   "source": [
    "We can also investigate the keyword 'baby' appeared in the description."
   ]
  },
  {
   "cell_type": "code",
   "execution_count": 45,
   "metadata": {},
   "outputs": [],
   "source": [
    "baby=df.copy()[['Group']]\n",
    "my_list_baby=[0]*len(baby)\n",
    "for i in range(len(baby)):\n",
    "    my_list_baby[i]=sum(['baby' == df['lemmatized_description'][i][j] \n",
    "                         for j in range(len(df['lemmatized_description'][i]))])\n",
    "baby['baby_count']=my_list_baby"
   ]
  },
  {
   "cell_type": "code",
   "execution_count": 46,
   "metadata": {},
   "outputs": [
    {
     "data": {
      "text/html": [
       "<div>\n",
       "<style scoped>\n",
       "    .dataframe tbody tr th:only-of-type {\n",
       "        vertical-align: middle;\n",
       "    }\n",
       "\n",
       "    .dataframe tbody tr th {\n",
       "        vertical-align: top;\n",
       "    }\n",
       "\n",
       "    .dataframe thead th {\n",
       "        text-align: right;\n",
       "    }\n",
       "</style>\n",
       "<table border=\"1\" class=\"dataframe\">\n",
       "  <thead>\n",
       "    <tr style=\"text-align: right;\">\n",
       "      <th></th>\n",
       "      <th></th>\n",
       "      <th>baby_count</th>\n",
       "    </tr>\n",
       "    <tr>\n",
       "      <th>Group</th>\n",
       "      <th>baby_count</th>\n",
       "      <th></th>\n",
       "    </tr>\n",
       "  </thead>\n",
       "  <tbody>\n",
       "    <tr>\n",
       "      <td rowspan=\"4\" valign=\"top\">1</td>\n",
       "      <td>1</td>\n",
       "      <td>6</td>\n",
       "    </tr>\n",
       "    <tr>\n",
       "      <td>2</td>\n",
       "      <td>6</td>\n",
       "    </tr>\n",
       "    <tr>\n",
       "      <td>0</td>\n",
       "      <td>3</td>\n",
       "    </tr>\n",
       "    <tr>\n",
       "      <td>3</td>\n",
       "      <td>2</td>\n",
       "    </tr>\n",
       "    <tr>\n",
       "      <td rowspan=\"2\" valign=\"top\">2</td>\n",
       "      <td>0</td>\n",
       "      <td>21</td>\n",
       "    </tr>\n",
       "    <tr>\n",
       "      <td>1</td>\n",
       "      <td>3</td>\n",
       "    </tr>\n",
       "    <tr>\n",
       "      <td rowspan=\"2\" valign=\"top\">3</td>\n",
       "      <td>0</td>\n",
       "      <td>37</td>\n",
       "    </tr>\n",
       "    <tr>\n",
       "      <td>1</td>\n",
       "      <td>1</td>\n",
       "    </tr>\n",
       "  </tbody>\n",
       "</table>\n",
       "</div>"
      ],
      "text/plain": [
       "                  baby_count\n",
       "Group baby_count            \n",
       "1     1                    6\n",
       "      2                    6\n",
       "      0                    3\n",
       "      3                    2\n",
       "2     0                   21\n",
       "      1                    3\n",
       "3     0                   37\n",
       "      1                    1"
      ]
     },
     "execution_count": 46,
     "metadata": {},
     "output_type": "execute_result"
    }
   ],
   "source": [
    "data=pd.DataFrame(baby.groupby('Group')['baby_count'].value_counts())\n",
    "data"
   ]
  },
  {
   "cell_type": "code",
   "execution_count": 47,
   "metadata": {},
   "outputs": [
    {
     "data": {
      "image/png": "[encoded data removed]",
      "text/plain": [
       "<Figure size 1080x360 with 3 Axes>"
      ]
     },
     "metadata": {
      "needs_background": "light"
     },
     "output_type": "display_data"
    }
   ],
   "source": [
    "#bar plot of the number of times the word baby appeared in the description\n",
    "fig, axes = plt.subplots(1, 3)\n",
    "# plot counter\n",
    "for c in [1,2,3]:\n",
    "    data.loc[c].plot(kind='bar', ax=axes[c-1], \n",
    "                        title=f\"number of times the baby read appeares in group{c}\",\n",
    "                        figsize=(15,5))\n",
    "    plt.tight_layout()\n",
    "plt.show()"
   ]
  },
  {
   "cell_type": "markdown",
   "metadata": {},
   "source": [
    "We see that the word baby mostly appears in group 1 (0-2 years old kids). It is kind of cheating to include this word\n",
    "in our model. Therefore, we will drop the column 'baby' from our datasets."
   ]
  },
  {
   "cell_type": "code",
   "execution_count": 48,
   "metadata": {},
   "outputs": [],
   "source": [
    "#drop the baby feature from the datasets.\n",
    "lemmatized_df.drop('baby', axis=1, inplace=True)\n",
    "stemmed_df.drop('babi', axis=1, inplace=True)\n",
    "df_tfidf.drop('babi', axis=1, inplace=True)"
   ]
  },
  {
   "cell_type": "markdown",
   "metadata": {},
   "source": [
    "Similarly, we can also study how often the word 'kid' appears in the description."
   ]
  },
  {
   "cell_type": "code",
   "execution_count": 49,
   "metadata": {},
   "outputs": [
    {
     "data": {
      "text/html": [
       "<div>\n",
       "<style scoped>\n",
       "    .dataframe tbody tr th:only-of-type {\n",
       "        vertical-align: middle;\n",
       "    }\n",
       "\n",
       "    .dataframe tbody tr th {\n",
       "        vertical-align: top;\n",
       "    }\n",
       "\n",
       "    .dataframe thead th {\n",
       "        text-align: right;\n",
       "    }\n",
       "</style>\n",
       "<table border=\"1\" class=\"dataframe\">\n",
       "  <thead>\n",
       "    <tr style=\"text-align: right;\">\n",
       "      <th></th>\n",
       "      <th></th>\n",
       "      <th>kid_count</th>\n",
       "    </tr>\n",
       "    <tr>\n",
       "      <th>Group</th>\n",
       "      <th>kid_count</th>\n",
       "      <th></th>\n",
       "    </tr>\n",
       "  </thead>\n",
       "  <tbody>\n",
       "    <tr>\n",
       "      <td rowspan=\"2\" valign=\"top\">1</td>\n",
       "      <td>0</td>\n",
       "      <td>16</td>\n",
       "    </tr>\n",
       "    <tr>\n",
       "      <td>1</td>\n",
       "      <td>1</td>\n",
       "    </tr>\n",
       "    <tr>\n",
       "      <td rowspan=\"2\" valign=\"top\">2</td>\n",
       "      <td>0</td>\n",
       "      <td>17</td>\n",
       "    </tr>\n",
       "    <tr>\n",
       "      <td>1</td>\n",
       "      <td>7</td>\n",
       "    </tr>\n",
       "    <tr>\n",
       "      <td rowspan=\"2\" valign=\"top\">3</td>\n",
       "      <td>0</td>\n",
       "      <td>29</td>\n",
       "    </tr>\n",
       "    <tr>\n",
       "      <td>1</td>\n",
       "      <td>9</td>\n",
       "    </tr>\n",
       "  </tbody>\n",
       "</table>\n",
       "</div>"
      ],
      "text/plain": [
       "                 kid_count\n",
       "Group kid_count           \n",
       "1     0                 16\n",
       "      1                  1\n",
       "2     0                 17\n",
       "      1                  7\n",
       "3     0                 29\n",
       "      1                  9"
      ]
     },
     "execution_count": 49,
     "metadata": {},
     "output_type": "execute_result"
    }
   ],
   "source": [
    "kid=df.copy()[['Group']]\n",
    "my_list_kid=[0]*len(baby)\n",
    "for i in range(len(kid)):\n",
    "    my_list_kid[i]=sum(['kid' == df['stemmed_description'][i][j] \n",
    "                         for j in range(len(df['stemmed_description'][i]))])\n",
    "kid['kid_count']=my_list_kid\n",
    "data_kid=pd.DataFrame(kid.groupby('Group')['kid_count'].value_counts())\n",
    "data_kid"
   ]
  },
  {
   "cell_type": "markdown",
   "metadata": {},
   "source": [
    "We see that the word 'kid' only appears once in group 1. However, it appears in about 1/3 descriptions for group 2 and in about 1/4 descriptions for group 3. Since it does not entirely biased towards a particular group, we keep it in the data set."
   ]
  },
  {
   "cell_type": "markdown",
   "metadata": {},
   "source": [
    "We are also curious about what words appeared most often in the title and the descriptions. Let explore the data and see."
   ]
  },
  {
   "cell_type": "code",
   "execution_count": 50,
   "metadata": {},
   "outputs": [
    {
     "data": {
      "text/plain": [
       "book            105\n",
       "child            50\n",
       "story            50\n",
       "illustration     37\n",
       "baby             28\n",
       "make             25\n",
       "read             23\n",
       "fun              21\n",
       "animal           21\n",
       "little           20\n",
       "dtype: int64"
      ]
     },
     "execution_count": 50,
     "metadata": {},
     "output_type": "execute_result"
    }
   ],
   "source": [
    "#ten most popular words in the description\n",
    "df_lemmatized_description.sum().sort_values(ascending=False).iloc[:10]"
   ]
  },
  {
   "cell_type": "code",
   "execution_count": 51,
   "metadata": {},
   "outputs": [
    {
     "data": {
      "text/plain": [
       "<matplotlib.axes._subplots.AxesSubplot at 0x13b4c5b10>"
      ]
     },
     "execution_count": 51,
     "metadata": {},
     "output_type": "execute_result"
    },
    {
     "data": {
      "image/png": "[encoded data removed]",
      "text/plain": [
       "<Figure size 432x288 with 1 Axes>"
      ]
     },
     "metadata": {
      "needs_background": "light"
     },
     "output_type": "display_data"
    }
   ],
   "source": [
    "#ten most popular words in the description.\n",
    "df_lemmatized_description.sum().sort_values(ascending=False).iloc[:10].plot(kind='bar')"
   ]
  },
  {
   "cell_type": "markdown",
   "metadata": {},
   "source": [
    "While it is expected that words like \"book\", \"story\", \"read\" would appear rather often (after all, the article is a book review!), it is still intersting to see that \"illustration\", \"fun\", \"animal\" make it to the list! "
   ]
  },
  {
   "cell_type": "code",
   "execution_count": 52,
   "metadata": {},
   "outputs": [
    {
     "data": {
      "text/plain": [
       "<matplotlib.axes._subplots.AxesSubplot at 0x13b93a690>"
      ]
     },
     "execution_count": 52,
     "metadata": {},
     "output_type": "execute_result"
    },
    {
     "data": {
      "image/png": "[encoded data removed]",
      "text/plain": [
       "<Figure size 432x288 with 1 Axes>"
      ]
     },
     "metadata": {
      "needs_background": "light"
     },
     "output_type": "display_data"
    }
   ],
   "source": [
    "#10 most popular words in the title\n",
    "df_title.sum().sort_values(ascending=False).iloc[:10].plot(kind='bar')"
   ]
  },
  {
   "cell_type": "code",
   "execution_count": 53,
   "metadata": {},
   "outputs": [
    {
     "data": {
      "text/plain": [
       "Index(['littl', 'good', 'night', 'day', 'go', 'love', 'book', 'anim', 'thing',\n",
       "       'bear'],\n",
       "      dtype='object')"
      ]
     },
     "execution_count": 53,
     "metadata": {},
     "output_type": "execute_result"
    }
   ],
   "source": [
    "df_title.sum().sort_values(ascending=False).iloc[:10].index"
   ]
  },
  {
   "cell_type": "markdown",
   "metadata": {},
   "source": [
    "It seems tht the book titles are rather diverse. "
   ]
  },
  {
   "cell_type": "markdown",
   "metadata": {},
   "source": [
    "# Part 2: Train and Evaluate Machine Learning Models"
   ]
  },
  {
   "cell_type": "markdown",
   "metadata": {},
   "source": [
    "We note we have multiple classes in our problem.\n",
    "\n",
    "To get some feeling about the problem, it is perhaps a good to try a simple model that could solves mutliclass classification problem such as decision tree. "
   ]
  },
  {
   "cell_type": "markdown",
   "metadata": {},
   "source": [
    "# Part 2.1: Decision tree models."
   ]
  },
  {
   "cell_type": "code",
   "execution_count": 54,
   "metadata": {},
   "outputs": [],
   "source": [
    "import sklearn\n",
    "from sklearn.model_selection import train_test_split \n",
    "from sklearn.tree import DecisionTreeClassifier \n",
    "from sklearn import metrics\n",
    "from sklearn.ensemble import RandomForestClassifier"
   ]
  },
  {
   "cell_type": "code",
   "execution_count": 55,
   "metadata": {},
   "outputs": [],
   "source": [
    "#First, select the feature for our model\n",
    "X_stemmed=stemmed_df.copy().drop(['Group'], axis=1)\n",
    "y_stemmed=stemmed_df['Group']\n",
    "X_train, X_test, y_train, y_test = train_test_split(X_stemmed, y_stemmed, test_size=0.4, random_state=42)\n",
    "#train a tree model using the training set\n",
    "tree_model_0 = DecisionTreeClassifier(max_depth = 5).fit(X_train, y_train) "
   ]
  },
  {
   "cell_type": "code",
   "execution_count": 56,
   "metadata": {},
   "outputs": [],
   "source": [
    "#use the above model to predict on the test set\n",
    "train_prediction_stemmed=tree_model_0.predict(X_train)"
   ]
  },
  {
   "cell_type": "code",
   "execution_count": 57,
   "metadata": {},
   "outputs": [
    {
     "data": {
      "text/plain": [
       "array([[10,  0,  0],\n",
       "       [ 1, 13,  0],\n",
       "       [ 0,  0, 23]])"
      ]
     },
     "execution_count": 57,
     "metadata": {},
     "output_type": "execute_result"
    }
   ],
   "source": [
    "#confussion metrics for the training set\n",
    "sklearn.metrics.confusion_matrix(y_train, train_prediction_stemmed)"
   ]
  },
  {
   "cell_type": "code",
   "execution_count": 58,
   "metadata": {},
   "outputs": [
    {
     "name": "stdout",
     "output_type": "stream",
     "text": [
      "              precision    recall  f1-score   support\n",
      "\n",
      "           1       0.91      1.00      0.95        10\n",
      "           2       1.00      0.93      0.96        14\n",
      "           3       1.00      1.00      1.00        23\n",
      "\n",
      "    accuracy                           0.98        47\n",
      "   macro avg       0.97      0.98      0.97        47\n",
      "weighted avg       0.98      0.98      0.98        47\n",
      "\n"
     ]
    }
   ],
   "source": [
    "#we can also get a more complete statistical summary of the model\n",
    "print(sklearn.metrics.classification_report(y_train, train_prediction_stemmed))"
   ]
  },
  {
   "cell_type": "markdown",
   "metadata": {},
   "source": [
    "We see that this tree model performs pretty well on the training set. Let us evaluate on the test set as well."
   ]
  },
  {
   "cell_type": "code",
   "execution_count": 59,
   "metadata": {},
   "outputs": [
    {
     "data": {
      "text/plain": [
       "array([[2, 1, 4],\n",
       "       [3, 1, 6],\n",
       "       [4, 3, 8]])"
      ]
     },
     "execution_count": 59,
     "metadata": {},
     "output_type": "execute_result"
    }
   ],
   "source": [
    "#Let predict and evaluate our model on the test set.\n",
    "test_prediction_stemmed=tree_model_0.predict(X_test)\n",
    "sklearn.metrics.confusion_matrix(y_test, test_prediction_stemmed)"
   ]
  },
  {
   "cell_type": "code",
   "execution_count": 60,
   "metadata": {},
   "outputs": [
    {
     "name": "stdout",
     "output_type": "stream",
     "text": [
      "              precision    recall  f1-score   support\n",
      "\n",
      "           1       0.22      0.29      0.25         7\n",
      "           2       0.20      0.10      0.13        10\n",
      "           3       0.44      0.53      0.48        15\n",
      "\n",
      "    accuracy                           0.34        32\n",
      "   macro avg       0.29      0.31      0.29        32\n",
      "weighted avg       0.32      0.34      0.32        32\n",
      "\n"
     ]
    }
   ],
   "source": [
    "#scores of our model\n",
    "print(sklearn.metrics.classification_report(y_test, test_prediction_stemmed))"
   ]
  },
  {
   "cell_type": "markdown",
   "metadata": {},
   "source": [
    "This models performce rather poorly on the test set, especially for group 2. Before we try to find a better model, let take a look at how the above decision tree model works."
   ]
  },
  {
   "cell_type": "code",
   "execution_count": 61,
   "metadata": {},
   "outputs": [
    {
     "data": {
      "image/png": "[encoded data removed]",
      "text/plain": [
       "<Figure size 4320x2880 with 1 Axes>"
      ]
     },
     "metadata": {
      "needs_background": "light"
     },
     "output_type": "display_data"
    }
   ],
   "source": [
    "from sklearn.tree import plot_tree\n",
    "plt.figure(figsize=(60,40))\n",
    "a = plot_tree(tree_model_0, \n",
    "              feature_names=X_stemmed.columns, \n",
    "              #class_names=y.columns, \n",
    "              filled=True, \n",
    "              rounded=True, \n",
    "              fontsize=30)\n",
    "plt.show()"
   ]
  },
  {
   "cell_type": "markdown",
   "metadata": {},
   "source": [
    "It is pleasant to observe that one of the first features used to split the tree is the description_len as we expect that the description length is a distinguished feature amongst different groups."
   ]
  },
  {
   "cell_type": "code",
   "execution_count": 62,
   "metadata": {},
   "outputs": [],
   "source": [
    "#First, select the feature for our model\n",
    "#X=pd.concat([df[['description_len', 'title_len', \n",
    "                             #'Group', 'count_punct']], df_lemmatized_description], axis=1)\n",
    "X_lemmatized=df_lemmatized_description.copy().drop(['sparse'], axis=1)\n",
    "X_lemmatized['sparse_changed']=df_lemmatized_description['sparse']\n",
    "y_lemmatized=df['Group']\n",
    "X_train_lm, X_test_lm, y_train_lm, y_test_lm= train_test_split(X_lemmatized, y_lemmatized, \n",
    "                                                    test_size=0.4, random_state=42)\n",
    "#train a tree model using the training set on the lemmatized dataset\n",
    "tree_model_lm_0 = DecisionTreeClassifier(max_depth = 5).fit(X_train_lm, y_train_lm)"
   ]
  },
  {
   "cell_type": "code",
   "execution_count": 63,
   "metadata": {
    "scrolled": true
   },
   "outputs": [],
   "source": [
    "#predictions on the train and test set\n",
    "tree_prediction_train_lm= tree_model_lm_0.predict(X_train_lm)\n",
    "tree_prediction_test_lm=tree_model_lm_0.predict(X_test_lm)"
   ]
  },
  {
   "cell_type": "code",
   "execution_count": 64,
   "metadata": {},
   "outputs": [
    {
     "name": "stdout",
     "output_type": "stream",
     "text": [
      "[[ 9  0  1]\n",
      " [ 0 12  2]\n",
      " [ 0  0 23]]\n",
      "              precision    recall  f1-score   support\n",
      "\n",
      "           1       1.00      0.90      0.95        10\n",
      "           2       1.00      0.86      0.92        14\n",
      "           3       0.88      1.00      0.94        23\n",
      "\n",
      "    accuracy                           0.94        47\n",
      "   macro avg       0.96      0.92      0.94        47\n",
      "weighted avg       0.94      0.94      0.94        47\n",
      "\n"
     ]
    }
   ],
   "source": [
    "#confussion metrics for the training set\n",
    "print(sklearn.metrics.confusion_matrix(y_train_lm, tree_prediction_train_lm))\n",
    "print(sklearn.metrics.classification_report(y_train_lm, tree_prediction_train_lm))"
   ]
  },
  {
   "cell_type": "markdown",
   "metadata": {},
   "source": [
    "This model performs pretty well on the traing set. Let us evaluate it on the test set as well. "
   ]
  },
  {
   "cell_type": "code",
   "execution_count": 65,
   "metadata": {},
   "outputs": [
    {
     "name": "stdout",
     "output_type": "stream",
     "text": [
      "[[ 3  2  2]\n",
      " [ 0  0 10]\n",
      " [ 0  4 11]]\n",
      "              precision    recall  f1-score   support\n",
      "\n",
      "           1       1.00      0.43      0.60         7\n",
      "           2       0.00      0.00      0.00        10\n",
      "           3       0.48      0.73      0.58        15\n",
      "\n",
      "    accuracy                           0.44        32\n",
      "   macro avg       0.49      0.39      0.39        32\n",
      "weighted avg       0.44      0.44      0.40        32\n",
      "\n"
     ]
    }
   ],
   "source": [
    "#confussion metrics for the test set\n",
    "print(sklearn.metrics.confusion_matrix(y_test_lm, tree_prediction_test_lm))\n",
    "print(sklearn.metrics.classification_report(y_test_lm, tree_prediction_test_lm))"
   ]
  },
  {
   "cell_type": "markdown",
   "metadata": {},
   "source": [
    "As above, this tree model runs into the same problem of overfitting. Finally, let train our model on the tf-idf data frame."
   ]
  },
  {
   "cell_type": "code",
   "execution_count": 66,
   "metadata": {},
   "outputs": [],
   "source": [
    "X_tfidf=df_tfidf.copy().drop(['Group'], axis=1)\n",
    "y_tfidf=df['Group']\n",
    "X_train_tfidf, X_test_tfidf, y_train_tfidf, y_test_tfidf = train_test_split(X_tfidf, y_tfidf, test_size=0.4, random_state=42)\n",
    "#train a tree model using the training set\n",
    "tree_model_tfidf = DecisionTreeClassifier(max_depth = 5).fit(X_train_tfidf, y_train_tfidf) \n",
    "train_prediction_tfidf=tree_model_tfidf.predict(X_train_tfidf)\n",
    "test_prediction_tfidf=tree_model_tfidf.predict(X_test_tfidf)"
   ]
  },
  {
   "cell_type": "code",
   "execution_count": 67,
   "metadata": {},
   "outputs": [
    {
     "name": "stdout",
     "output_type": "stream",
     "text": [
      "[[ 4  3  3]\n",
      " [ 0 13  1]\n",
      " [ 0  1 22]]\n",
      "              precision    recall  f1-score   support\n",
      "\n",
      "           1       1.00      0.40      0.57        10\n",
      "           2       0.76      0.93      0.84        14\n",
      "           3       0.85      0.96      0.90        23\n",
      "\n",
      "    accuracy                           0.83        47\n",
      "   macro avg       0.87      0.76      0.77        47\n",
      "weighted avg       0.85      0.83      0.81        47\n",
      "\n"
     ]
    }
   ],
   "source": [
    "#confussion matrix for the training set\n",
    "print(sklearn.metrics.confusion_matrix(y_train_tfidf, train_prediction_tfidf))\n",
    "print(sklearn.metrics.classification_report(y_train_tfidf, train_prediction_tfidf))"
   ]
  },
  {
   "cell_type": "code",
   "execution_count": 68,
   "metadata": {},
   "outputs": [
    {
     "name": "stdout",
     "output_type": "stream",
     "text": [
      "[[ 1  0  6]\n",
      " [ 0  4  6]\n",
      " [ 0  4 11]]\n",
      "              precision    recall  f1-score   support\n",
      "\n",
      "           1       1.00      0.14      0.25         7\n",
      "           2       0.50      0.40      0.44        10\n",
      "           3       0.48      0.73      0.58        15\n",
      "\n",
      "    accuracy                           0.50        32\n",
      "   macro avg       0.66      0.43      0.42        32\n",
      "weighted avg       0.60      0.50      0.46        32\n",
      "\n"
     ]
    }
   ],
   "source": [
    "#confussion matrix for the test set\n",
    "print(sklearn.metrics.confusion_matrix(y_test_tfidf, test_prediction_tfidf))\n",
    "print(sklearn.metrics.classification_report(y_test_tfidf, test_prediction_tfidf))"
   ]
  },
  {
   "cell_type": "markdown",
   "metadata": {},
   "source": [
    "As other models, this model does not perform well on group 1 and group 2. "
   ]
  },
  {
   "cell_type": "markdown",
   "metadata": {},
   "source": [
    "# Part 2.2: Logistic regression"
   ]
  },
  {
   "cell_type": "code",
   "execution_count": 69,
   "metadata": {},
   "outputs": [],
   "source": [
    "from sklearn.linear_model import LogisticRegression"
   ]
  },
  {
   "cell_type": "code",
   "execution_count": 70,
   "metadata": {},
   "outputs": [],
   "source": [
    "#train a logistic regression model and use it to predict using the stemmed data frame.\n",
    "stemmed_logit=LogisticRegression(max_iter=1000)\n",
    "stemmed_logit.fit(X_train, y_train)\n",
    "logit_stemmed_train_prediction=stemmed_logit.predict(X_train)\n",
    "logit_stemmed_test_prediction=stemmed_logit.predict(X_test)"
   ]
  },
  {
   "cell_type": "code",
   "execution_count": 71,
   "metadata": {},
   "outputs": [
    {
     "data": {
      "text/plain": [
       "array([[10,  0,  0],\n",
       "       [ 0, 14,  0],\n",
       "       [ 0,  0, 23]])"
      ]
     },
     "execution_count": 71,
     "metadata": {},
     "output_type": "execute_result"
    }
   ],
   "source": [
    "#evaluate on the training set\n",
    "\n",
    "sklearn.metrics.confusion_matrix(y_train, logit_stemmed_train_prediction)"
   ]
  },
  {
   "cell_type": "markdown",
   "metadata": {},
   "source": [
    "This model performs perfectly on the training set. Let us take a look at the performance on the test set."
   ]
  },
  {
   "cell_type": "code",
   "execution_count": 72,
   "metadata": {},
   "outputs": [
    {
     "data": {
      "text/plain": [
       "array([[ 4,  1,  2],\n",
       "       [ 3,  0,  7],\n",
       "       [ 1,  0, 14]])"
      ]
     },
     "execution_count": 72,
     "metadata": {},
     "output_type": "execute_result"
    }
   ],
   "source": [
    "# evaluation on the test set\n",
    "sklearn.metrics.confusion_matrix(y_test, logit_stemmed_test_prediction)"
   ]
  },
  {
   "cell_type": "markdown",
   "metadata": {},
   "source": [
    "We see that this model's performance is pretty good on group 1 and group 3. However, it is not good on group 2. We can also test our model on the lemmatized data set."
   ]
  },
  {
   "cell_type": "code",
   "execution_count": 73,
   "metadata": {},
   "outputs": [],
   "source": [
    "lemmatized_logit=LogisticRegression()\n",
    "lemmatized_logit.fit(X_train_lm, y_train_lm)\n",
    "lm_train_prediction=lemmatized_logit.predict(X_train_lm)\n",
    "lm_test_prediction =lemmatized_logit.predict(X_test_lm)"
   ]
  },
  {
   "cell_type": "code",
   "execution_count": 74,
   "metadata": {},
   "outputs": [
    {
     "data": {
      "text/plain": [
       "array([[10,  0,  0],\n",
       "       [ 0, 14,  0],\n",
       "       [ 0,  0, 23]])"
      ]
     },
     "execution_count": 74,
     "metadata": {},
     "output_type": "execute_result"
    }
   ],
   "source": [
    "#confusion matrix for the training set\n",
    "sklearn.metrics.confusion_matrix(y_train_lm, lm_train_prediction)"
   ]
  },
  {
   "cell_type": "code",
   "execution_count": 75,
   "metadata": {},
   "outputs": [
    {
     "data": {
      "text/plain": [
       "array([[ 3,  1,  3],\n",
       "       [ 0,  1,  9],\n",
       "       [ 1,  2, 12]])"
      ]
     },
     "execution_count": 75,
     "metadata": {},
     "output_type": "execute_result"
    }
   ],
   "source": [
    "sklearn.metrics.confusion_matrix(y_test_lm, lm_test_prediction)"
   ]
  },
  {
   "cell_type": "markdown",
   "metadata": {},
   "source": [
    "As before, we see that this model overfits the data. Let us train a similar model on the tfidf version."
   ]
  },
  {
   "cell_type": "code",
   "execution_count": 76,
   "metadata": {},
   "outputs": [],
   "source": [
    "#train a logistic regression model and use it to predict using the stemmed data frame.\n",
    "tfidf_logit=LogisticRegression(max_iter=1000)\n",
    "tfidf_logit.fit(X_train_tfidf, y_train_tfidf)\n",
    "logit_tfidf_train_prediction=stemmed_logit.predict(X_train_tfidf)\n",
    "logit_tfidf_test_prediction=stemmed_logit.predict(X_test_tfidf)"
   ]
  },
  {
   "cell_type": "code",
   "execution_count": 77,
   "metadata": {},
   "outputs": [
    {
     "data": {
      "text/plain": [
       "array([[ 4,  0,  6],\n",
       "       [ 2,  0, 12],\n",
       "       [ 0,  0, 23]])"
      ]
     },
     "execution_count": 77,
     "metadata": {},
     "output_type": "execute_result"
    }
   ],
   "source": [
    "sklearn.metrics.confusion_matrix(y_train_tfidf, logit_tfidf_train_prediction)"
   ]
  },
  {
   "cell_type": "code",
   "execution_count": 78,
   "metadata": {},
   "outputs": [
    {
     "name": "stdout",
     "output_type": "stream",
     "text": [
      "[[ 3  0  4]\n",
      " [ 0  0 10]\n",
      " [ 0  0 15]]\n",
      "              precision    recall  f1-score   support\n",
      "\n",
      "           1       1.00      0.43      0.60         7\n",
      "           2       0.00      0.00      0.00        10\n",
      "           3       0.52      1.00      0.68        15\n",
      "\n",
      "    accuracy                           0.56        32\n",
      "   macro avg       0.51      0.48      0.43        32\n",
      "weighted avg       0.46      0.56      0.45        32\n",
      "\n"
     ]
    },
    {
     "name": "stderr",
     "output_type": "stream",
     "text": [
      "/opt/anaconda3/lib/python3.7/site-packages/sklearn/metrics/_classification.py:1221: UndefinedMetricWarning: Precision and F-score are ill-defined and being set to 0.0 in labels with no predicted samples. Use `zero_division` parameter to control this behavior.\n",
      "  _warn_prf(average, modifier, msg_start, len(result))\n"
     ]
    }
   ],
   "source": [
    "print(sklearn.metrics.confusion_matrix(y_test_tfidf, logit_tfidf_test_prediction))\n",
    "print(sklearn.metrics.classification_report(y_test_tfidf, logit_tfidf_test_prediction))"
   ]
  },
  {
   "cell_type": "markdown",
   "metadata": {},
   "source": [
    "Again, this model seems to overfit the data."
   ]
  },
  {
   "cell_type": "markdown",
   "metadata": {},
   "source": [
    "One thing we can try to avoid overfitting is that we can use regularized logistics regression model. Let try this idea on the stemmed dataset. "
   ]
  },
  {
   "cell_type": "code",
   "execution_count": 83,
   "metadata": {},
   "outputs": [],
   "source": [
    "ridge=LogisticRegression(C=10, penalty='l2', max_iter=10000 )\n",
    "ridge.fit(X_train, y_train)\n",
    "ridge_train_prediction=ridge.predict(X_train)\n",
    "ridge_test_prediction=ridge.predict(X_test)\n"
   ]
  },
  {
   "cell_type": "code",
   "execution_count": 84,
   "metadata": {},
   "outputs": [
    {
     "data": {
      "text/plain": [
       "array([[10,  0,  0],\n",
       "       [ 0, 14,  0],\n",
       "       [ 0,  0, 23]])"
      ]
     },
     "execution_count": 84,
     "metadata": {},
     "output_type": "execute_result"
    }
   ],
   "source": [
    "#confussion matrix for the training set\n",
    "sklearn.metrics.confusion_matrix(y_train, ridge_train_prediction)"
   ]
  },
  {
   "cell_type": "code",
   "execution_count": 85,
   "metadata": {},
   "outputs": [
    {
     "name": "stdout",
     "output_type": "stream",
     "text": [
      "[[ 4  1  2]\n",
      " [ 3  0  7]\n",
      " [ 0  1 14]]\n",
      "              precision    recall  f1-score   support\n",
      "\n",
      "           1       0.57      0.57      0.57         7\n",
      "           2       0.00      0.00      0.00        10\n",
      "           3       0.61      0.93      0.74        15\n",
      "\n",
      "    accuracy                           0.56        32\n",
      "   macro avg       0.39      0.50      0.44        32\n",
      "weighted avg       0.41      0.56      0.47        32\n",
      "\n"
     ]
    }
   ],
   "source": [
    "print(sklearn.metrics.confusion_matrix(y_test, ridge_test_prediction))\n",
    "print(sklearn.metrics.classification_report(y_test, ridge_test_prediction))"
   ]
  },
  {
   "cell_type": "markdown",
   "metadata": {},
   "source": [
    "This is argurably the best model so far."
   ]
  },
  {
   "cell_type": "markdown",
   "metadata": {},
   "source": [
    "# Part 2.3: Random Forest Models."
   ]
  },
  {
   "cell_type": "code",
   "execution_count": 86,
   "metadata": {},
   "outputs": [],
   "source": [
    "#build a random forest classifier on the stemmed data\n",
    "stemmed_rf_model_0 = RandomForestClassifier(n_estimators=100).fit(X_train, y_train) "
   ]
  },
  {
   "cell_type": "code",
   "execution_count": 87,
   "metadata": {},
   "outputs": [],
   "source": [
    "#use the above model to make predictions on the traning set and the test set\n",
    "\n",
    "rf_train_prediction_0=stemmed_rf_model_0.predict(X_train)\n",
    "rf_test_prediction_0=stemmed_rf_model_0.predict(X_test)"
   ]
  },
  {
   "cell_type": "code",
   "execution_count": 88,
   "metadata": {},
   "outputs": [
    {
     "data": {
      "text/plain": [
       "array([[10,  0,  0],\n",
       "       [ 0, 14,  0],\n",
       "       [ 0,  0, 23]])"
      ]
     },
     "execution_count": 88,
     "metadata": {},
     "output_type": "execute_result"
    }
   ],
   "source": [
    "#compute the confussion matrix for the training set\n",
    "sklearn.metrics.confusion_matrix(y_train, rf_train_prediction_0)"
   ]
  },
  {
   "cell_type": "code",
   "execution_count": 89,
   "metadata": {},
   "outputs": [
    {
     "name": "stdout",
     "output_type": "stream",
     "text": [
      "              precision    recall  f1-score   support\n",
      "\n",
      "           1       1.00      1.00      1.00        10\n",
      "           2       1.00      1.00      1.00        14\n",
      "           3       1.00      1.00      1.00        23\n",
      "\n",
      "    accuracy                           1.00        47\n",
      "   macro avg       1.00      1.00      1.00        47\n",
      "weighted avg       1.00      1.00      1.00        47\n",
      "\n"
     ]
    }
   ],
   "source": [
    "print(sklearn.metrics.classification_report(y_train, rf_train_prediction_0))"
   ]
  },
  {
   "cell_type": "markdown",
   "metadata": {},
   "source": [
    "It appears this random forrest model performs perfectly on the training set. This might be a sign of overfitting. Let us evaluate this model on the test set to see what happens."
   ]
  },
  {
   "cell_type": "code",
   "execution_count": 90,
   "metadata": {},
   "outputs": [
    {
     "data": {
      "text/plain": [
       "array([[ 1,  0,  6],\n",
       "       [ 0,  0, 10],\n",
       "       [ 0,  0, 15]])"
      ]
     },
     "execution_count": 90,
     "metadata": {},
     "output_type": "execute_result"
    }
   ],
   "source": [
    "#confussion matrix on the test set\n",
    "\n",
    "sklearn.metrics.confusion_matrix(y_test, rf_test_prediction_0)"
   ]
  },
  {
   "cell_type": "markdown",
   "metadata": {},
   "source": [
    "Clearly, this model overfits the training set. We hope to overcome overfitting by putting some contrains on the trees. For example, we can restrict that the max_depth of each tree in the forest is 5."
   ]
  },
  {
   "cell_type": "code",
   "execution_count": 91,
   "metadata": {},
   "outputs": [],
   "source": [
    "#build a random forest classifier on the stemmed data where max_depth=5\n",
    "rf_model_1 = RandomForestClassifier(max_depth=10, n_estimators=100).fit(X_train, y_train) \n",
    "rf_train_prediction_1=rf_model_1.predict(X_train)\n",
    "rf_test_prediction_1=rf_model_1.predict(X_test)"
   ]
  },
  {
   "cell_type": "code",
   "execution_count": 92,
   "metadata": {},
   "outputs": [
    {
     "data": {
      "text/plain": [
       "array([[10,  0,  0],\n",
       "       [ 0, 14,  0],\n",
       "       [ 0,  0, 23]])"
      ]
     },
     "execution_count": 92,
     "metadata": {},
     "output_type": "execute_result"
    }
   ],
   "source": [
    "#confussion matrix for the traing set\n",
    "sklearn.metrics.confusion_matrix(y_train, rf_train_prediction_1)"
   ]
  },
  {
   "cell_type": "markdown",
   "metadata": {},
   "source": [
    "Again, this model performs very well on the training set. Let us evaluate it on the test set."
   ]
  },
  {
   "cell_type": "code",
   "execution_count": 93,
   "metadata": {},
   "outputs": [
    {
     "data": {
      "text/plain": [
       "array([[ 1,  0,  6],\n",
       "       [ 0,  0, 10],\n",
       "       [ 0,  0, 15]])"
      ]
     },
     "execution_count": 93,
     "metadata": {},
     "output_type": "execute_result"
    }
   ],
   "source": [
    "sklearn.metrics.confusion_matrix(y_test, rf_test_prediction_1)"
   ]
  },
  {
   "cell_type": "markdown",
   "metadata": {},
   "source": [
    "Unfortunately, it is still overfitting. Let us use other hyperparameters."
   ]
  },
  {
   "cell_type": "code",
   "execution_count": 94,
   "metadata": {},
   "outputs": [
    {
     "name": "stdout",
     "output_type": "stream",
     "text": [
      "[[10  0  0]\n",
      " [ 0 14  0]\n",
      " [ 0  0 23]]\n",
      "[[ 1  0  6]\n",
      " [ 0  0 10]\n",
      " [ 0  0 15]]\n"
     ]
    }
   ],
   "source": [
    "#we can also change the number of trees to see what happens.\n",
    "rf_model_2 = RandomForestClassifier(max_depth=10, n_estimators=70).fit(X_train, y_train) \n",
    "rf_train_prediction_2=rf_model_2.predict(X_train)\n",
    "rf_test_prediction_2=rf_model_2.predict(X_test)\n",
    "print(sklearn.metrics.confusion_matrix(y_train, rf_train_prediction_2))\n",
    "print(sklearn.metrics.confusion_matrix(y_test, rf_test_prediction_2))"
   ]
  },
  {
   "cell_type": "markdown",
   "metadata": {},
   "source": [
    "Still, it does not perform well on group 1 and group 2. "
   ]
  },
  {
   "cell_type": "markdown",
   "metadata": {},
   "source": [
    "In the above approach, we change the number of trees by hand. We can also use a Gridsearch to find a better hyperparameters."
   ]
  },
  {
   "cell_type": "code",
   "execution_count": 95,
   "metadata": {},
   "outputs": [],
   "source": [
    "from sklearn.model_selection import GridSearchCV"
   ]
  },
  {
   "cell_type": "code",
   "execution_count": 96,
   "metadata": {},
   "outputs": [
    {
     "data": {
      "text/html": [
       "<div>\n",
       "<style scoped>\n",
       "    .dataframe tbody tr th:only-of-type {\n",
       "        vertical-align: middle;\n",
       "    }\n",
       "\n",
       "    .dataframe tbody tr th {\n",
       "        vertical-align: top;\n",
       "    }\n",
       "\n",
       "    .dataframe thead th {\n",
       "        text-align: right;\n",
       "    }\n",
       "</style>\n",
       "<table border=\"1\" class=\"dataframe\">\n",
       "  <thead>\n",
       "    <tr style=\"text-align: right;\">\n",
       "      <th></th>\n",
       "      <th>mean_fit_time</th>\n",
       "      <th>std_fit_time</th>\n",
       "      <th>mean_score_time</th>\n",
       "      <th>std_score_time</th>\n",
       "      <th>param_max_depth</th>\n",
       "      <th>param_n_estimators</th>\n",
       "      <th>params</th>\n",
       "      <th>split0_test_score</th>\n",
       "      <th>split1_test_score</th>\n",
       "      <th>split2_test_score</th>\n",
       "      <th>split3_test_score</th>\n",
       "      <th>split4_test_score</th>\n",
       "      <th>mean_test_score</th>\n",
       "      <th>std_test_score</th>\n",
       "      <th>rank_test_score</th>\n",
       "    </tr>\n",
       "  </thead>\n",
       "  <tbody>\n",
       "    <tr>\n",
       "      <td>0</td>\n",
       "      <td>0.123271</td>\n",
       "      <td>0.002852</td>\n",
       "      <td>0.023135</td>\n",
       "      <td>0.001184</td>\n",
       "      <td>5</td>\n",
       "      <td>50</td>\n",
       "      <td>{'max_depth': 5, 'n_estimators': 50}</td>\n",
       "      <td>0.5</td>\n",
       "      <td>0.5</td>\n",
       "      <td>0.555556</td>\n",
       "      <td>0.444444</td>\n",
       "      <td>0.444444</td>\n",
       "      <td>0.488889</td>\n",
       "      <td>0.041574</td>\n",
       "      <td>1</td>\n",
       "    </tr>\n",
       "    <tr>\n",
       "      <td>1</td>\n",
       "      <td>0.352351</td>\n",
       "      <td>0.022359</td>\n",
       "      <td>0.047731</td>\n",
       "      <td>0.006795</td>\n",
       "      <td>5</td>\n",
       "      <td>150</td>\n",
       "      <td>{'max_depth': 5, 'n_estimators': 150}</td>\n",
       "      <td>0.5</td>\n",
       "      <td>0.5</td>\n",
       "      <td>0.555556</td>\n",
       "      <td>0.444444</td>\n",
       "      <td>0.444444</td>\n",
       "      <td>0.488889</td>\n",
       "      <td>0.041574</td>\n",
       "      <td>1</td>\n",
       "    </tr>\n",
       "  </tbody>\n",
       "</table>\n",
       "</div>"
      ],
      "text/plain": [
       "   mean_fit_time  std_fit_time  mean_score_time  std_score_time  \\\n",
       "0       0.123271      0.002852         0.023135        0.001184   \n",
       "1       0.352351      0.022359         0.047731        0.006795   \n",
       "\n",
       "  param_max_depth param_n_estimators                                 params  \\\n",
       "0               5                 50   {'max_depth': 5, 'n_estimators': 50}   \n",
       "1               5                150  {'max_depth': 5, 'n_estimators': 150}   \n",
       "\n",
       "   split0_test_score  split1_test_score  split2_test_score  split3_test_score  \\\n",
       "0                0.5                0.5           0.555556           0.444444   \n",
       "1                0.5                0.5           0.555556           0.444444   \n",
       "\n",
       "   split4_test_score  mean_test_score  std_test_score  rank_test_score  \n",
       "0           0.444444         0.488889        0.041574                1  \n",
       "1           0.444444         0.488889        0.041574                1  "
      ]
     },
     "execution_count": 96,
     "metadata": {},
     "output_type": "execute_result"
    }
   ],
   "source": [
    "param = {'n_estimators': [50, 150, 300],\n",
    "        'max_depth': [5, 10, 20, None]}\n",
    "\n",
    "gs = GridSearchCV(RandomForestClassifier(), param, cv=5, n_jobs=-1)\n",
    "gs_fit = gs.fit(X_train, y_train)\n",
    "pd.DataFrame(gs_fit.cv_results_).sort_values('mean_test_score', ascending=False)[0:2]"
   ]
  },
  {
   "cell_type": "markdown",
   "metadata": {},
   "source": [
    "The gridsearch suggests that we can use 50 trees in our random forest and set the max_length to be 5."
   ]
  },
  {
   "cell_type": "code",
   "execution_count": 97,
   "metadata": {},
   "outputs": [
    {
     "name": "stdout",
     "output_type": "stream",
     "text": [
      "[[10  0  0]\n",
      " [ 0 14  0]\n",
      " [ 0  0 23]]\n",
      "[[ 1  0  6]\n",
      " [ 0  0 10]\n",
      " [ 0  1 14]]\n"
     ]
    }
   ],
   "source": [
    "#train a random forest model with the \"best\" hyperparameters\n",
    "rf_model_2 = RandomForestClassifier(max_depth=50, n_estimators=70).fit(X_train, y_train) \n",
    "rf_train_prediction_2=rf_model_2.predict(X_train)\n",
    "rf_test_prediction_2=rf_model_2.predict(X_test)\n",
    "print(sklearn.metrics.confusion_matrix(y_train, rf_train_prediction_2))\n",
    "print(sklearn.metrics.confusion_matrix(y_test, rf_test_prediction_2))"
   ]
  },
  {
   "cell_type": "markdown",
   "metadata": {},
   "source": [
    "We see that this random forst model seems to overfit the training set. Let us train a similar model using the tfidf dataset."
   ]
  },
  {
   "cell_type": "code",
   "execution_count": 98,
   "metadata": {},
   "outputs": [
    {
     "name": "stdout",
     "output_type": "stream",
     "text": [
      "[[ 8  0  2]\n",
      " [ 0 10  4]\n",
      " [ 0  0 23]]\n",
      "[[ 1  0  6]\n",
      " [ 0  0 10]\n",
      " [ 0  0 15]]\n"
     ]
    }
   ],
   "source": [
    "#we can also change the number of trees to see what happens.\n",
    "rf_model_3 = RandomForestClassifier(max_depth=5, n_estimators=50).fit(X_train_tfidf, y_train_tfidf) \n",
    "rf_train_prediction_3=rf_model_3.predict(X_train_tfidf)\n",
    "rf_test_prediction_3=rf_model_3.predict(X_test_tfidf)\n",
    "print(sklearn.metrics.confusion_matrix(y_train_tfidf, rf_train_prediction_3))\n",
    "print(sklearn.metrics.confusion_matrix(y_test_tfidf, rf_test_prediction_3))"
   ]
  },
  {
   "cell_type": "markdown",
   "metadata": {},
   "source": [
    "Again, this model only performs well on group 3. It seems to be a common problem with our models."
   ]
  },
  {
   "cell_type": "markdown",
   "metadata": {},
   "source": [
    "# Conclusion"
   ]
  },
  {
   "cell_type": "markdown",
   "metadata": {},
   "source": [
    "After doing this exercise, we discovered some interesting facts about children books.\n",
    "\n",
    "1. The ten most common words in the titles are: 'little', 'good', 'night', 'day', 'go', 'love', 'book', 'animal', 'thing', 'bear'. It is a surprise for us to see 'bear' in this list. All other words are more or less expected.  \n",
    "\n",
    "2. The description lengths are different accross groups. This confirms our belief that description for books intended for older kids are generally more delicated. \n",
    "\n",
    "3. Another predictable fact that is supported by the data: the word \"read\" actually appears more often in the description for group 1 and group 2 than in group 3. \n",
    "\n",
    "4. All of our models perform well only on group 3. Is this really the issue of our models or simply because the author's description is not strong enough to distinguish between group 1 and group 2? In our experience, it is hard to differentiate books for 1-2 years kid and 2-3 years old kids (though it is pretty easy to differentiate books for 0-1 years old kids and 3-4 years old kids.) Another possibility is that since our data is very small, all machine learning models tend to overfit the dataset. "
   ]
  },
  {
   "cell_type": "code",
   "execution_count": null,
   "metadata": {},
   "outputs": [],
   "source": []
  }
 ],
 "metadata": {
  "kernelspec": {
   "display_name": "Python 3",
   "language": "python",
   "name": "python3"
  }
 },
 "nbformat": 4,
 "nbformat_minor": 2
}
